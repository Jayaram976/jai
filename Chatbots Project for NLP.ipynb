{
 "cells": [
  {
   "cell_type": "markdown",
   "id": "cd3b4ae0",
   "metadata": {},
   "source": [
    "# Natural Language Process :"
   ]
  },
  {
   "cell_type": "markdown",
   "id": "2a52d234",
   "metadata": {},
   "source": [
    "### Summary of Datasets :\n",
    "* Flags: Different codes that may relate to the way a query is classified or processed.\n",
    "* Utterance: Various customer service inquiries, mainly related to orders.\n",
    "* Category: Classifications, such as \"ORDER,\" grouping utterances based on context.\n",
    "* Intent: Specific actions such as \"cancel_order,\" indicating the purpose of the customer's request"
   ]
  },
  {
   "cell_type": "code",
   "execution_count": 56,
   "id": "b0b500c4",
   "metadata": {},
   "outputs": [],
   "source": [
    "import numpy as np\n",
    "import pandas as pd\n",
    "import warnings\n",
    "warnings.filterwarnings('ignore')\n",
    "import nltk"
   ]
  },
  {
   "cell_type": "code",
   "execution_count": 57,
   "id": "39c127d2",
   "metadata": {},
   "outputs": [],
   "source": [
    "data=pd.read_csv('Bitext_Sample_Customer_Service_Training_Dataset.csv')"
   ]
  },
  {
   "cell_type": "code",
   "execution_count": 58,
   "id": "221b99ba",
   "metadata": {},
   "outputs": [
    {
     "data": {
      "text/plain": [
       "pandas.core.frame.DataFrame"
      ]
     },
     "execution_count": 58,
     "metadata": {},
     "output_type": "execute_result"
    }
   ],
   "source": [
    "type(data)"
   ]
  },
  {
   "cell_type": "code",
   "execution_count": 59,
   "id": "78077dbb",
   "metadata": {},
   "outputs": [
    {
     "data": {
      "text/plain": [
       "(8175, 4)"
      ]
     },
     "execution_count": 59,
     "metadata": {},
     "output_type": "execute_result"
    }
   ],
   "source": [
    "data.shape"
   ]
  },
  {
   "cell_type": "code",
   "execution_count": 60,
   "id": "fcef1481",
   "metadata": {},
   "outputs": [
    {
     "data": {
      "text/plain": [
       "32700"
      ]
     },
     "execution_count": 60,
     "metadata": {},
     "output_type": "execute_result"
    }
   ],
   "source": [
    "data.size"
   ]
  },
  {
   "cell_type": "code",
   "execution_count": 144,
   "id": "423305b2",
   "metadata": {},
   "outputs": [
    {
     "data": {
      "text/plain": [
       "0                 I have problems with canceling an order\n",
       "1       how can I find information about canceling ord...\n",
       "2               I need help with canceling the last order\n",
       "3       could you help me cancelling the last order I ...\n",
       "4                 problem with cancelling an order I made\n",
       "                              ...                        \n",
       "8170    I need help to check if there is any updates o...\n",
       "8171                                        refund status\n",
       "8172            how can I check the status of the refund?\n",
       "8173    help checking if there is anything wrong with ...\n",
       "8174                           anything new on my refund?\n",
       "Name: utterance, Length: 8175, dtype: object"
      ]
     },
     "execution_count": 144,
     "metadata": {},
     "output_type": "execute_result"
    }
   ],
   "source": [
    "data['utterance']"
   ]
  },
  {
   "cell_type": "code",
   "execution_count": 61,
   "id": "210fea19",
   "metadata": {},
   "outputs": [
    {
     "data": {
      "text/html": [
       "<div>\n",
       "<style scoped>\n",
       "    .dataframe tbody tr th:only-of-type {\n",
       "        vertical-align: middle;\n",
       "    }\n",
       "\n",
       "    .dataframe tbody tr th {\n",
       "        vertical-align: top;\n",
       "    }\n",
       "\n",
       "    .dataframe thead th {\n",
       "        text-align: right;\n",
       "    }\n",
       "</style>\n",
       "<table border=\"1\" class=\"dataframe\">\n",
       "  <thead>\n",
       "    <tr style=\"text-align: right;\">\n",
       "      <th></th>\n",
       "      <th>flags</th>\n",
       "      <th>utterance</th>\n",
       "      <th>category</th>\n",
       "      <th>intent</th>\n",
       "    </tr>\n",
       "  </thead>\n",
       "  <tbody>\n",
       "    <tr>\n",
       "      <th>0</th>\n",
       "      <td>BM</td>\n",
       "      <td>I have problems with canceling an order</td>\n",
       "      <td>ORDER</td>\n",
       "      <td>cancel_order</td>\n",
       "    </tr>\n",
       "    <tr>\n",
       "      <th>1</th>\n",
       "      <td>BIM</td>\n",
       "      <td>how can I find information about canceling ord...</td>\n",
       "      <td>ORDER</td>\n",
       "      <td>cancel_order</td>\n",
       "    </tr>\n",
       "    <tr>\n",
       "      <th>2</th>\n",
       "      <td>B</td>\n",
       "      <td>I need help with canceling the last order</td>\n",
       "      <td>ORDER</td>\n",
       "      <td>cancel_order</td>\n",
       "    </tr>\n",
       "    <tr>\n",
       "      <th>3</th>\n",
       "      <td>BIP</td>\n",
       "      <td>could you help me cancelling the last order I ...</td>\n",
       "      <td>ORDER</td>\n",
       "      <td>cancel_order</td>\n",
       "    </tr>\n",
       "    <tr>\n",
       "      <th>4</th>\n",
       "      <td>B</td>\n",
       "      <td>problem with cancelling an order I made</td>\n",
       "      <td>ORDER</td>\n",
       "      <td>cancel_order</td>\n",
       "    </tr>\n",
       "  </tbody>\n",
       "</table>\n",
       "</div>"
      ],
      "text/plain": [
       "  flags                                          utterance category  \\\n",
       "0    BM            I have problems with canceling an order    ORDER   \n",
       "1   BIM  how can I find information about canceling ord...    ORDER   \n",
       "2     B          I need help with canceling the last order    ORDER   \n",
       "3   BIP  could you help me cancelling the last order I ...    ORDER   \n",
       "4     B            problem with cancelling an order I made    ORDER   \n",
       "\n",
       "         intent  \n",
       "0  cancel_order  \n",
       "1  cancel_order  \n",
       "2  cancel_order  \n",
       "3  cancel_order  \n",
       "4  cancel_order  "
      ]
     },
     "execution_count": 61,
     "metadata": {},
     "output_type": "execute_result"
    }
   ],
   "source": [
    "data.head()"
   ]
  },
  {
   "cell_type": "code",
   "execution_count": 62,
   "id": "b705842e",
   "metadata": {},
   "outputs": [
    {
     "data": {
      "text/html": [
       "<div>\n",
       "<style scoped>\n",
       "    .dataframe tbody tr th:only-of-type {\n",
       "        vertical-align: middle;\n",
       "    }\n",
       "\n",
       "    .dataframe tbody tr th {\n",
       "        vertical-align: top;\n",
       "    }\n",
       "\n",
       "    .dataframe thead th {\n",
       "        text-align: right;\n",
       "    }\n",
       "</style>\n",
       "<table border=\"1\" class=\"dataframe\">\n",
       "  <thead>\n",
       "    <tr style=\"text-align: right;\">\n",
       "      <th></th>\n",
       "      <th>flags</th>\n",
       "      <th>utterance</th>\n",
       "      <th>category</th>\n",
       "      <th>intent</th>\n",
       "    </tr>\n",
       "  </thead>\n",
       "  <tbody>\n",
       "    <tr>\n",
       "      <th>8170</th>\n",
       "      <td>BM</td>\n",
       "      <td>I need help to check if there is any updates o...</td>\n",
       "      <td>REFUND</td>\n",
       "      <td>track_refund</td>\n",
       "    </tr>\n",
       "    <tr>\n",
       "      <th>8171</th>\n",
       "      <td>BK</td>\n",
       "      <td>refund status</td>\n",
       "      <td>REFUND</td>\n",
       "      <td>track_refund</td>\n",
       "    </tr>\n",
       "    <tr>\n",
       "      <th>8172</th>\n",
       "      <td>BI</td>\n",
       "      <td>how can I check the status of the refund?</td>\n",
       "      <td>REFUND</td>\n",
       "      <td>track_refund</td>\n",
       "    </tr>\n",
       "    <tr>\n",
       "      <th>8173</th>\n",
       "      <td>B</td>\n",
       "      <td>help checking if there is anything wrong with ...</td>\n",
       "      <td>REFUND</td>\n",
       "      <td>track_refund</td>\n",
       "    </tr>\n",
       "    <tr>\n",
       "      <th>8174</th>\n",
       "      <td>BI</td>\n",
       "      <td>anything new on my refund?</td>\n",
       "      <td>REFUND</td>\n",
       "      <td>track_refund</td>\n",
       "    </tr>\n",
       "  </tbody>\n",
       "</table>\n",
       "</div>"
      ],
      "text/plain": [
       "     flags                                          utterance category  \\\n",
       "8170    BM  I need help to check if there is any updates o...   REFUND   \n",
       "8171    BK                                      refund status   REFUND   \n",
       "8172    BI          how can I check the status of the refund?   REFUND   \n",
       "8173     B  help checking if there is anything wrong with ...   REFUND   \n",
       "8174    BI                         anything new on my refund?   REFUND   \n",
       "\n",
       "            intent  \n",
       "8170  track_refund  \n",
       "8171  track_refund  \n",
       "8172  track_refund  \n",
       "8173  track_refund  \n",
       "8174  track_refund  "
      ]
     },
     "execution_count": 62,
     "metadata": {},
     "output_type": "execute_result"
    }
   ],
   "source": [
    "data.tail()"
   ]
  },
  {
   "cell_type": "code",
   "execution_count": 63,
   "id": "df233a41",
   "metadata": {},
   "outputs": [
    {
     "data": {
      "text/html": [
       "<div>\n",
       "<style scoped>\n",
       "    .dataframe tbody tr th:only-of-type {\n",
       "        vertical-align: middle;\n",
       "    }\n",
       "\n",
       "    .dataframe tbody tr th {\n",
       "        vertical-align: top;\n",
       "    }\n",
       "\n",
       "    .dataframe thead th {\n",
       "        text-align: right;\n",
       "    }\n",
       "</style>\n",
       "<table border=\"1\" class=\"dataframe\">\n",
       "  <thead>\n",
       "    <tr style=\"text-align: right;\">\n",
       "      <th></th>\n",
       "      <th>flags</th>\n",
       "      <th>utterance</th>\n",
       "      <th>category</th>\n",
       "      <th>intent</th>\n",
       "    </tr>\n",
       "  </thead>\n",
       "  <tbody>\n",
       "    <tr>\n",
       "      <th>7000</th>\n",
       "      <td>B</td>\n",
       "      <td>I try to set another shipping address up</td>\n",
       "      <td>SHIPPING_ADDRESS</td>\n",
       "      <td>set_up_shipping_address</td>\n",
       "    </tr>\n",
       "  </tbody>\n",
       "</table>\n",
       "</div>"
      ],
      "text/plain": [
       "     flags                                 utterance          category  \\\n",
       "7000     B  I try to set another shipping address up  SHIPPING_ADDRESS   \n",
       "\n",
       "                       intent  \n",
       "7000  set_up_shipping_address  "
      ]
     },
     "execution_count": 63,
     "metadata": {},
     "output_type": "execute_result"
    }
   ],
   "source": [
    "data.sample()"
   ]
  },
  {
   "cell_type": "code",
   "execution_count": 64,
   "id": "278ee39f",
   "metadata": {},
   "outputs": [
    {
     "name": "stdout",
     "output_type": "stream",
     "text": [
      "<class 'pandas.core.frame.DataFrame'>\n",
      "RangeIndex: 8175 entries, 0 to 8174\n",
      "Data columns (total 4 columns):\n",
      " #   Column     Non-Null Count  Dtype \n",
      "---  ------     --------------  ----- \n",
      " 0   flags      8175 non-null   object\n",
      " 1   utterance  8175 non-null   object\n",
      " 2   category   8175 non-null   object\n",
      " 3   intent     8175 non-null   object\n",
      "dtypes: object(4)\n",
      "memory usage: 255.6+ KB\n"
     ]
    }
   ],
   "source": [
    "data.info()"
   ]
  },
  {
   "cell_type": "code",
   "execution_count": 65,
   "id": "19ca0382",
   "metadata": {},
   "outputs": [
    {
     "data": {
      "text/html": [
       "<div>\n",
       "<style scoped>\n",
       "    .dataframe tbody tr th:only-of-type {\n",
       "        vertical-align: middle;\n",
       "    }\n",
       "\n",
       "    .dataframe tbody tr th {\n",
       "        vertical-align: top;\n",
       "    }\n",
       "\n",
       "    .dataframe thead th {\n",
       "        text-align: right;\n",
       "    }\n",
       "</style>\n",
       "<table border=\"1\" class=\"dataframe\">\n",
       "  <thead>\n",
       "    <tr style=\"text-align: right;\">\n",
       "      <th></th>\n",
       "      <th>flags</th>\n",
       "      <th>utterance</th>\n",
       "      <th>category</th>\n",
       "      <th>intent</th>\n",
       "    </tr>\n",
       "  </thead>\n",
       "  <tbody>\n",
       "    <tr>\n",
       "      <th>count</th>\n",
       "      <td>8175</td>\n",
       "      <td>8175</td>\n",
       "      <td>8175</td>\n",
       "      <td>8175</td>\n",
       "    </tr>\n",
       "    <tr>\n",
       "      <th>unique</th>\n",
       "      <td>118</td>\n",
       "      <td>8175</td>\n",
       "      <td>11</td>\n",
       "      <td>27</td>\n",
       "    </tr>\n",
       "    <tr>\n",
       "      <th>top</th>\n",
       "      <td>B</td>\n",
       "      <td>I have problems with canceling an order</td>\n",
       "      <td>ACCOUNT</td>\n",
       "      <td>get_invoice</td>\n",
       "    </tr>\n",
       "    <tr>\n",
       "      <th>freq</th>\n",
       "      <td>2395</td>\n",
       "      <td>1</td>\n",
       "      <td>1774</td>\n",
       "      <td>324</td>\n",
       "    </tr>\n",
       "  </tbody>\n",
       "</table>\n",
       "</div>"
      ],
      "text/plain": [
       "       flags                                utterance category       intent\n",
       "count   8175                                     8175     8175         8175\n",
       "unique   118                                     8175       11           27\n",
       "top        B  I have problems with canceling an order  ACCOUNT  get_invoice\n",
       "freq    2395                                        1     1774          324"
      ]
     },
     "execution_count": 65,
     "metadata": {},
     "output_type": "execute_result"
    }
   ],
   "source": [
    "data.describe()"
   ]
  },
  {
   "cell_type": "code",
   "execution_count": 66,
   "id": "969d4576",
   "metadata": {},
   "outputs": [
    {
     "data": {
      "text/plain": [
       "flags        0\n",
       "utterance    0\n",
       "category     0\n",
       "intent       0\n",
       "dtype: int64"
      ]
     },
     "execution_count": 66,
     "metadata": {},
     "output_type": "execute_result"
    }
   ],
   "source": [
    "data.isnull().sum()"
   ]
  },
  {
   "cell_type": "markdown",
   "id": "52308639",
   "metadata": {},
   "source": [
    "## Insights :\n",
    "* Zero Null values of Bitext datasets."
   ]
  },
  {
   "cell_type": "code",
   "execution_count": 67,
   "id": "cb3c7cb3",
   "metadata": {},
   "outputs": [
    {
     "data": {
      "text/plain": [
       "0"
      ]
     },
     "execution_count": 67,
     "metadata": {},
     "output_type": "execute_result"
    }
   ],
   "source": [
    "data.duplicated().sum()"
   ]
  },
  {
   "cell_type": "markdown",
   "id": "6506c0a6",
   "metadata": {},
   "source": [
    "## Insights :\n",
    "* zero duplicated values for this datasets."
   ]
  },
  {
   "cell_type": "code",
   "execution_count": 68,
   "id": "940e3f9c",
   "metadata": {},
   "outputs": [
    {
     "data": {
      "text/plain": [
       "Index(['flags', 'utterance', 'category', 'intent'], dtype='object')"
      ]
     },
     "execution_count": 68,
     "metadata": {},
     "output_type": "execute_result"
    }
   ],
   "source": [
    "data.columns"
   ]
  },
  {
   "cell_type": "code",
   "execution_count": 69,
   "id": "1bf77785",
   "metadata": {},
   "outputs": [
    {
     "data": {
      "text/plain": [
       "array(['BM', 'BIM', 'B', 'BIP', 'BI', 'BE', 'BIMP', 'BP', 'BEM', 'BK',\n",
       "       'BEP', 'BMP', 'BL', 'BLQ', 'BLQZ', 'BIL', 'BCILQZ', 'BLM', 'BELQ',\n",
       "       'BCILQ', 'BLZ', 'BILQ', 'BKL', 'BLMQW', 'BLMQ', 'BEL', 'BKM',\n",
       "       'BELZ', 'BELQZ', 'BLW', 'BLQW', 'BCLQ', 'BILWZ', 'BCIQ', 'BCEILMQ',\n",
       "       'BLMQZ', 'BCILMQZ', 'BLMW', 'BILM', 'BLMZ', 'BILMQ', 'BILZ',\n",
       "       'BILQZ', 'BILQW', 'BIQ', 'BEMP', 'BCELMQ', 'BCILMQ', 'BILMZ',\n",
       "       'BELMQ', 'BCEIQ', 'BELMQZ', 'BCELZ', 'BELM', 'BCEILM', 'BCELMZ',\n",
       "       'BCELMQWZ', 'BMQ', 'BELQW', 'BQZ', 'BCEILZ', 'BELMZ', 'BCELMQZ',\n",
       "       'BILMQW', 'BCLMQ', 'BCL', 'BQ', 'BILW', 'BIQZ', 'BCLZ', 'BCIL',\n",
       "       'BCELQ', 'BCELQZ', 'BILP', 'BCEILQ', 'BLPQ', 'BLP', 'BCEL',\n",
       "       'BCLQZ', 'BILPQ', 'BCLQW', 'BKLZ', 'BCIZ', 'BELWZ', 'BCELQWZ',\n",
       "       'BCEILQZ', 'BZ', 'BCEIL', 'BCLQWZ', 'BIMQ', 'BEQZ', 'BCILM',\n",
       "       'BCLMQWZ', 'BCLM', 'BKLMZ', 'BILMQZ', 'BCLMZ', 'BCILZ', 'BKLQ',\n",
       "       'BKLM', 'BLQWZ', 'BCILPQZ', 'BCLW', 'BEQ', 'BIPQ', 'BKQ', 'BIQWZ',\n",
       "       'BCILQW', 'BILPQW', 'BCILWZ', 'BELW', 'BCLQVZ', 'BELMP', 'BCELM',\n",
       "       'BCEILMZ', 'BMW', 'BW', 'BLWZ'], dtype=object)"
      ]
     },
     "execution_count": 69,
     "metadata": {},
     "output_type": "execute_result"
    }
   ],
   "source": [
    "data['flags'].unique()"
   ]
  },
  {
   "cell_type": "code",
   "execution_count": 70,
   "id": "028f2295",
   "metadata": {},
   "outputs": [
    {
     "data": {
      "text/plain": [
       "118"
      ]
     },
     "execution_count": 70,
     "metadata": {},
     "output_type": "execute_result"
    }
   ],
   "source": [
    "len(data['flags'].unique())"
   ]
  },
  {
   "cell_type": "code",
   "execution_count": 71,
   "id": "3d217dbb",
   "metadata": {},
   "outputs": [
    {
     "data": {
      "text/plain": [
       "flags\n",
       "B          2395\n",
       "BI         1066\n",
       "BM          803\n",
       "BIP         605\n",
       "BL          432\n",
       "           ... \n",
       "BCLMQWZ       1\n",
       "BCLM          1\n",
       "BCLMQ         1\n",
       "BCLMZ         1\n",
       "BLWZ          1\n",
       "Name: count, Length: 118, dtype: int64"
      ]
     },
     "execution_count": 71,
     "metadata": {},
     "output_type": "execute_result"
    }
   ],
   "source": [
    "data['flags'].value_counts()"
   ]
  },
  {
   "cell_type": "code",
   "execution_count": 72,
   "id": "5015c5e3",
   "metadata": {},
   "outputs": [
    {
     "data": {
      "text/plain": [
       "array(['I have problems with canceling an order',\n",
       "       'how can I find information about canceling orders?',\n",
       "       'I need help with canceling the last order', ...,\n",
       "       'how can I check the status of the refund?',\n",
       "       'help checking if there is anything wrong with my refund',\n",
       "       'anything new on my refund?'], dtype=object)"
      ]
     },
     "execution_count": 72,
     "metadata": {},
     "output_type": "execute_result"
    }
   ],
   "source": [
    "data['utterance'].unique()"
   ]
  },
  {
   "cell_type": "code",
   "execution_count": 73,
   "id": "8ae829af",
   "metadata": {},
   "outputs": [
    {
     "data": {
      "text/plain": [
       "8175"
      ]
     },
     "execution_count": 73,
     "metadata": {},
     "output_type": "execute_result"
    }
   ],
   "source": [
    "len(data['utterance'].unique()) ## the srings are unique message's."
   ]
  },
  {
   "cell_type": "code",
   "execution_count": 74,
   "id": "f47b21dc",
   "metadata": {},
   "outputs": [
    {
     "data": {
      "text/plain": [
       "utterance\n",
       "I have problems with canceling an order                        1\n",
       "I need assistance reporting an issue with payment              1\n",
       "I want help reporting an issue with payments                   1\n",
       "question about my payment                                      1\n",
       "I do not know what I have to do to report payment issues       1\n",
       "                                                              ..\n",
       "can you help me to talk to customer assistance?                1\n",
       "do you have an e-mail address to contact customer support ?    1\n",
       "i wantg assistance to call customer service                    1\n",
       "help checking what hours customer service available is         1\n",
       "anything new on my refund?                                     1\n",
       "Name: count, Length: 8175, dtype: int64"
      ]
     },
     "execution_count": 74,
     "metadata": {},
     "output_type": "execute_result"
    }
   ],
   "source": [
    "data['utterance'].value_counts()"
   ]
  },
  {
   "cell_type": "code",
   "execution_count": 75,
   "id": "4b5c5e40",
   "metadata": {},
   "outputs": [
    {
     "data": {
      "text/plain": [
       "array(['ORDER', 'SHIPPING_ADDRESS', 'CANCELLATION_FEE', 'INVOICE',\n",
       "       'PAYMENT', 'REFUND', 'FEEDBACK', 'CONTACT', 'ACCOUNT', 'DELIVERY',\n",
       "       'NEWSLETTER'], dtype=object)"
      ]
     },
     "execution_count": 75,
     "metadata": {},
     "output_type": "execute_result"
    }
   ],
   "source": [
    "data['category'].unique()"
   ]
  },
  {
   "cell_type": "code",
   "execution_count": 76,
   "id": "3c757e2a",
   "metadata": {},
   "outputs": [
    {
     "data": {
      "text/plain": [
       "11"
      ]
     },
     "execution_count": 76,
     "metadata": {},
     "output_type": "execute_result"
    }
   ],
   "source": [
    "len(data['category'].unique())"
   ]
  },
  {
   "cell_type": "code",
   "execution_count": 77,
   "id": "3851716b",
   "metadata": {},
   "outputs": [
    {
     "data": {
      "text/plain": [
       "category\n",
       "ACCOUNT             1774\n",
       "ORDER               1220\n",
       "REFUND               904\n",
       "INVOICE              648\n",
       "PAYMENT              620\n",
       "FEEDBACK             613\n",
       "SHIPPING_ADDRESS     604\n",
       "DELIVERY             603\n",
       "CONTACT              596\n",
       "CANCELLATION_FEE     298\n",
       "NEWSLETTER           295\n",
       "Name: count, dtype: int64"
      ]
     },
     "execution_count": 77,
     "metadata": {},
     "output_type": "execute_result"
    }
   ],
   "source": [
    "data['category'].value_counts()"
   ]
  },
  {
   "cell_type": "code",
   "execution_count": 78,
   "id": "49fb3609",
   "metadata": {},
   "outputs": [
    {
     "data": {
      "text/plain": [
       "array(['cancel_order', 'change_order', 'change_shipping_address',\n",
       "       'check_cancellation_fee', 'check_invoice', 'check_payment_methods',\n",
       "       'check_refund_policy', 'complaint', 'contact_customer_service',\n",
       "       'contact_human_agent', 'create_account', 'delete_account',\n",
       "       'delivery_options', 'delivery_period', 'edit_account',\n",
       "       'get_invoice', 'get_refund', 'newsletter_subscription',\n",
       "       'payment_issue', 'place_order', 'recover_password',\n",
       "       'registration_problems', 'review', 'set_up_shipping_address',\n",
       "       'switch_account', 'track_order', 'track_refund'], dtype=object)"
      ]
     },
     "execution_count": 78,
     "metadata": {},
     "output_type": "execute_result"
    }
   ],
   "source": [
    "data['intent'].unique()"
   ]
  },
  {
   "cell_type": "code",
   "execution_count": 79,
   "id": "b4664c63",
   "metadata": {},
   "outputs": [
    {
     "data": {
      "text/plain": [
       "27"
      ]
     },
     "execution_count": 79,
     "metadata": {},
     "output_type": "execute_result"
    }
   ],
   "source": [
    "len(data['intent'].unique())"
   ]
  },
  {
   "cell_type": "code",
   "execution_count": 80,
   "id": "3a6f986b",
   "metadata": {},
   "outputs": [
    {
     "data": {
      "text/plain": [
       "intent\n",
       "get_invoice                 324\n",
       "check_invoice               324\n",
       "payment_issue               323\n",
       "review                      315\n",
       "track_refund                308\n",
       "set_up_shipping_address     307\n",
       "place_order                 306\n",
       "track_order                 305\n",
       "cancel_order                305\n",
       "change_order                304\n",
       "delivery_options            302\n",
       "check_refund_policy         302\n",
       "delivery_period             301\n",
       "contact_customer_service    299\n",
       "create_account              298\n",
       "check_cancellation_fee      298\n",
       "recover_password            298\n",
       "complaint                   298\n",
       "delete_account              298\n",
       "check_payment_methods       297\n",
       "change_shipping_address     297\n",
       "contact_human_agent         297\n",
       "registration_problems       296\n",
       "newsletter_subscription     295\n",
       "get_refund                  294\n",
       "edit_account                294\n",
       "switch_account              290\n",
       "Name: count, dtype: int64"
      ]
     },
     "execution_count": 80,
     "metadata": {},
     "output_type": "execute_result"
    }
   ],
   "source": [
    "data['intent'].value_counts()"
   ]
  },
  {
   "cell_type": "code",
   "execution_count": 81,
   "id": "07a7c09a",
   "metadata": {},
   "outputs": [
    {
     "name": "stderr",
     "output_type": "stream",
     "text": [
      "[nltk_data] Downloading package punkt to\n",
      "[nltk_data]     C:\\Users\\DELL\\AppData\\Roaming\\nltk_data...\n",
      "[nltk_data]   Package punkt is already up-to-date!\n",
      "[nltk_data] Downloading package stopwords to\n",
      "[nltk_data]     C:\\Users\\DELL\\AppData\\Roaming\\nltk_data...\n",
      "[nltk_data]   Package stopwords is already up-to-date!\n"
     ]
    },
    {
     "data": {
      "text/plain": [
       "True"
      ]
     },
     "execution_count": 81,
     "metadata": {},
     "output_type": "execute_result"
    }
   ],
   "source": [
    "## These is downloaded stopwords and punkt is tokenizer from nltk libraries.\n",
    "nltk.download('punkt')\n",
    "nltk.download('stopwords')"
   ]
  },
  {
   "cell_type": "markdown",
   "id": "0471eb8b",
   "metadata": {},
   "source": [
    "## Libraries :"
   ]
  },
  {
   "cell_type": "code",
   "execution_count": 82,
   "id": "1bbdb319",
   "metadata": {},
   "outputs": [],
   "source": [
    "import re"
   ]
  },
  {
   "cell_type": "code",
   "execution_count": 83,
   "id": "3a6e4623",
   "metadata": {},
   "outputs": [],
   "source": [
    "from nltk.corpus import stopwords\n",
    "from nltk.tokenize import word_tokenize"
   ]
  },
  {
   "cell_type": "code",
   "execution_count": 84,
   "id": "933f50fc",
   "metadata": {},
   "outputs": [],
   "source": [
    "from nltk.stem import SnowballStemmer,PorterStemmer,RegexpStemmer,WordNetLemmatizer"
   ]
  },
  {
   "cell_type": "code",
   "execution_count": 85,
   "id": "2932e455",
   "metadata": {},
   "outputs": [],
   "source": [
    "stemming=PorterStemmer()"
   ]
  },
  {
   "cell_type": "code",
   "execution_count": 86,
   "id": "86862e06",
   "metadata": {},
   "outputs": [],
   "source": [
    "lemmatization=WordNetLemmatizer()"
   ]
  },
  {
   "cell_type": "markdown",
   "id": "afad7311",
   "metadata": {},
   "source": [
    "## Preprocessing the text :"
   ]
  },
  {
   "cell_type": "markdown",
   "id": "3b51dd23",
   "metadata": {},
   "source": [
    "Choose the Right Tokenizer:\n",
    "\n",
    "Depending on your application, choose a tokenizer that best suits your needs. For simple tasks, split() might suffice, but for more complex NLP tasks, consider using word_tokenize from NLTK or tokenizers from spaCy."
   ]
  },
  {
   "cell_type": "markdown",
   "id": "5accdde5",
   "metadata": {},
   "source": [
    "re.sub(): Replaces occurrences of a pattern with a replacement string"
   ]
  },
  {
   "cell_type": "markdown",
   "id": "ebc83f4a",
   "metadata": {},
   "source": [
    "* Pattern: r'[^a-zA-Z\\s]' – This regex matches any character that is not a letter (a-z, A-Z) or a space (\\s).\n",
    "* Replacement: '' – We replace the matched characters with an empty string, effectively removing them.\n",
    "* String: The original text to be cleaned."
   ]
  },
  {
   "cell_type": "markdown",
   "id": "1ecb884e",
   "metadata": {},
   "source": [
    "* Conclusion:\n",
    "re.sub() is a powerful function that allows you to search for patterns in a string and replace them with new content, either globally or for a limited number of matches."
   ]
  },
  {
   "cell_type": "markdown",
   "id": "76c9f593",
   "metadata": {},
   "source": [
    "The pattern r'[^a-zA-Z\\s]' removes everything except letters and spaces. So punctuation like commas, exclamation marks, and digits (1234) are all removed."
   ]
  },
  {
   "cell_type": "markdown",
   "id": "71819c28",
   "metadata": {},
   "source": [
    "#### Summary:\n",
    "* [^a-zA-Z\\s] means \"find everything that is not a letter (a-z, A-Z) or a space.\"\n",
    "This is useful in cleaning text when you want to remove punctuation or special characters but keep letters and spaces."
   ]
  },
  {
   "cell_type": "markdown",
   "id": "e6d44f35",
   "metadata": {},
   "source": [
    "#### Parameters:\n",
    "* pattern: The regular expression pattern that you want to search for within the string.\n",
    "* replacement: The string to replace the matched pattern.\n",
    "* string: The input string in which the substitution occurs.\n",
    "* count (optional): The number of occurrences to replace. By default, it replaces all occurrences. You can specify a number to limit the number of replacements.\n",
    "* flags (optional): Modifiers like re.IGNORECASE to specify matching options (e.g., case-insensitive search).\n",
    "#### Returns(re.sub):\n",
    "* The function returns a new string with the specified pattern replaced by the replacement string."
   ]
  },
  {
   "cell_type": "markdown",
   "id": "7cc1fff9",
   "metadata": {},
   "source": [
    "#### what is re ?\n",
    "* The re.sub() function in Python’s re module is used to substitute or replace occurrences of a specified pattern in a string with a replacement string."
   ]
  },
  {
   "cell_type": "markdown",
   "id": "81ba34ed",
   "metadata": {},
   "source": [
    "#### Syntax :\n",
    "\n",
    "re.sub(pattern, replacement, string, count=0, flags=0)\n"
   ]
  },
  {
   "cell_type": "markdown",
   "id": "c586046a",
   "metadata": {},
   "source": [
    "#### Breakdown:\n",
    "1. **Lowercasing**: Converts all text to lowercase.\n",
    "2. **Removing Special Characters**: Removes anything that isn't a letter or space, including punctuation and numbers.\n",
    "3. **Tokenization**: Splits the text into individual words using `nltk.word_tokenize()`.\n",
    "4. **Removing Stopwords**: Removes common words like \"the\", \"is\", \"and\" that may not contribute to the meaning using NLTK's list of stopwords.\n",
    "5. **Rejoining Tokens**: After filtering out stopwords, the remaining tokens are joined back into a cleaned string.\n",
    "\n",
    "This cleaned text can now be fed into a feature extraction process (e.g., TF-IDF) for training a model.\n",
    "\n",
    "Would you like help with the next steps or running this on your dataset?"
   ]
  },
  {
   "cell_type": "code",
   "execution_count": 88,
   "id": "6bcc864e",
   "metadata": {},
   "outputs": [
    {
     "name": "stderr",
     "output_type": "stream",
     "text": [
      "[nltk_data] Downloading package wordnet to\n",
      "[nltk_data]     C:\\Users\\DELL\\AppData\\Roaming\\nltk_data...\n",
      "[nltk_data]   Package wordnet is already up-to-date!\n",
      "[nltk_data] Downloading package averaged_perceptron_tagger to\n",
      "[nltk_data]     C:\\Users\\DELL\\AppData\\Roaming\\nltk_data...\n",
      "[nltk_data]   Package averaged_perceptron_tagger is already up-to-\n",
      "[nltk_data]       date!\n"
     ]
    },
    {
     "data": {
      "text/plain": [
       "True"
      ]
     },
     "execution_count": 88,
     "metadata": {},
     "output_type": "execute_result"
    }
   ],
   "source": [
    "nltk.download('wordnet')\n",
    "nltk.download('averaged_perceptron_tagger')"
   ]
  },
  {
   "cell_type": "code",
   "execution_count": 89,
   "id": "008f6b4c",
   "metadata": {},
   "outputs": [],
   "source": [
    "def clean_text(text):\n",
    "    # Lowercase the text\n",
    "    text = text.lower()\n",
    "\n",
    "    # Remove special characters and numbers\n",
    "    text = re.sub(r'[^a-zA-Z\\s]', '', text)\n",
    "\n",
    "    # Tokenize the text\n",
    "    tokens = word_tokenize(text)\n",
    "\n",
    "    # Remove stopwords\n",
    "    stop_words = set(stopwords.words('english'))\n",
    "    filtered_tokens = [word for word in tokens if word not in stop_words]\n",
    "\n",
    "    # Initialize stemmer and lemmatizer\n",
    "    stemmer = PorterStemmer()\n",
    "    lemmatizer = WordNetLemmatizer()\n",
    "\n",
    "    # Apply stemming and lemmatization\n",
    "    stemmed_tokens = [stemmer.stem(word) for word in filtered_tokens]\n",
    "    lemmatized_tokens = [lemmatizer.lemmatize(word) for word in stemmed_tokens]\n",
    "\n",
    "    # Join tokens back into a cleaned text string\n",
    "    cleaned_text = ' '.join(lemmatized_tokens)\n",
    "\n",
    "    return cleaned_text"
   ]
  },
  {
   "cell_type": "markdown",
   "id": "31f23579",
   "metadata": {},
   "source": [
    "## Insights :\n",
    "* **Stemming:** Porterstemmer and wordnetlemmatizer combinations is better peroformance get the output.\n",
    "    other stemmers are poor performance of outputs.so we have used PorterStemmer and wordnetlemmatizer.   "
   ]
  },
  {
   "cell_type": "code",
   "execution_count": 90,
   "id": "8ed7ebc7",
   "metadata": {},
   "outputs": [],
   "source": [
    "data['clean_utterance']=data['utterance'].apply(clean_text)"
   ]
  },
  {
   "cell_type": "code",
   "execution_count": 91,
   "id": "c92f333b",
   "metadata": {},
   "outputs": [
    {
     "data": {
      "text/plain": [
       "0                 problem cancel order\n",
       "1             find inform cancel order\n",
       "2          need help cancel last order\n",
       "3    could help cancel last order made\n",
       "4            problem cancel order made\n",
       "Name: clean_utterance, dtype: object"
      ]
     },
     "execution_count": 91,
     "metadata": {},
     "output_type": "execute_result"
    }
   ],
   "source": [
    "data['clean_utterance'].head()  ## create the new feature's."
   ]
  },
  {
   "cell_type": "code",
   "execution_count": 92,
   "id": "6e8d628a",
   "metadata": {},
   "outputs": [
    {
     "data": {
      "text/plain": [
       "0              I have problems with canceling an order\n",
       "1    how can I find information about canceling ord...\n",
       "2            I need help with canceling the last order\n",
       "3    could you help me cancelling the last order I ...\n",
       "4              problem with cancelling an order I made\n",
       "Name: utterance, dtype: object"
      ]
     },
     "execution_count": 92,
     "metadata": {},
     "output_type": "execute_result"
    }
   ],
   "source": [
    "data['utterance'].head()  ## This is a old feature's."
   ]
  },
  {
   "cell_type": "code",
   "execution_count": 93,
   "id": "e816a998",
   "metadata": {},
   "outputs": [
    {
     "data": {
      "text/html": [
       "<div>\n",
       "<style scoped>\n",
       "    .dataframe tbody tr th:only-of-type {\n",
       "        vertical-align: middle;\n",
       "    }\n",
       "\n",
       "    .dataframe tbody tr th {\n",
       "        vertical-align: top;\n",
       "    }\n",
       "\n",
       "    .dataframe thead th {\n",
       "        text-align: right;\n",
       "    }\n",
       "</style>\n",
       "<table border=\"1\" class=\"dataframe\">\n",
       "  <thead>\n",
       "    <tr style=\"text-align: right;\">\n",
       "      <th></th>\n",
       "      <th>flags</th>\n",
       "      <th>utterance</th>\n",
       "      <th>category</th>\n",
       "      <th>intent</th>\n",
       "      <th>clean_utterance</th>\n",
       "    </tr>\n",
       "  </thead>\n",
       "  <tbody>\n",
       "    <tr>\n",
       "      <th>0</th>\n",
       "      <td>BM</td>\n",
       "      <td>I have problems with canceling an order</td>\n",
       "      <td>ORDER</td>\n",
       "      <td>cancel_order</td>\n",
       "      <td>problem cancel order</td>\n",
       "    </tr>\n",
       "    <tr>\n",
       "      <th>1</th>\n",
       "      <td>BIM</td>\n",
       "      <td>how can I find information about canceling ord...</td>\n",
       "      <td>ORDER</td>\n",
       "      <td>cancel_order</td>\n",
       "      <td>find inform cancel order</td>\n",
       "    </tr>\n",
       "    <tr>\n",
       "      <th>2</th>\n",
       "      <td>B</td>\n",
       "      <td>I need help with canceling the last order</td>\n",
       "      <td>ORDER</td>\n",
       "      <td>cancel_order</td>\n",
       "      <td>need help cancel last order</td>\n",
       "    </tr>\n",
       "    <tr>\n",
       "      <th>3</th>\n",
       "      <td>BIP</td>\n",
       "      <td>could you help me cancelling the last order I ...</td>\n",
       "      <td>ORDER</td>\n",
       "      <td>cancel_order</td>\n",
       "      <td>could help cancel last order made</td>\n",
       "    </tr>\n",
       "    <tr>\n",
       "      <th>4</th>\n",
       "      <td>B</td>\n",
       "      <td>problem with cancelling an order I made</td>\n",
       "      <td>ORDER</td>\n",
       "      <td>cancel_order</td>\n",
       "      <td>problem cancel order made</td>\n",
       "    </tr>\n",
       "  </tbody>\n",
       "</table>\n",
       "</div>"
      ],
      "text/plain": [
       "  flags                                          utterance category  \\\n",
       "0    BM            I have problems with canceling an order    ORDER   \n",
       "1   BIM  how can I find information about canceling ord...    ORDER   \n",
       "2     B          I need help with canceling the last order    ORDER   \n",
       "3   BIP  could you help me cancelling the last order I ...    ORDER   \n",
       "4     B            problem with cancelling an order I made    ORDER   \n",
       "\n",
       "         intent                    clean_utterance  \n",
       "0  cancel_order               problem cancel order  \n",
       "1  cancel_order           find inform cancel order  \n",
       "2  cancel_order        need help cancel last order  \n",
       "3  cancel_order  could help cancel last order made  \n",
       "4  cancel_order          problem cancel order made  "
      ]
     },
     "execution_count": 93,
     "metadata": {},
     "output_type": "execute_result"
    }
   ],
   "source": [
    "data.head()"
   ]
  },
  {
   "cell_type": "code",
   "execution_count": 94,
   "id": "9c93a072",
   "metadata": {},
   "outputs": [
    {
     "data": {
      "text/html": [
       "<div>\n",
       "<style scoped>\n",
       "    .dataframe tbody tr th:only-of-type {\n",
       "        vertical-align: middle;\n",
       "    }\n",
       "\n",
       "    .dataframe tbody tr th {\n",
       "        vertical-align: top;\n",
       "    }\n",
       "\n",
       "    .dataframe thead th {\n",
       "        text-align: right;\n",
       "    }\n",
       "</style>\n",
       "<table border=\"1\" class=\"dataframe\">\n",
       "  <thead>\n",
       "    <tr style=\"text-align: right;\">\n",
       "      <th></th>\n",
       "      <th>utterance</th>\n",
       "      <th>clean_utterance</th>\n",
       "    </tr>\n",
       "  </thead>\n",
       "  <tbody>\n",
       "    <tr>\n",
       "      <th>0</th>\n",
       "      <td>I have problems with canceling an order</td>\n",
       "      <td>problem cancel order</td>\n",
       "    </tr>\n",
       "    <tr>\n",
       "      <th>1</th>\n",
       "      <td>how can I find information about canceling ord...</td>\n",
       "      <td>find inform cancel order</td>\n",
       "    </tr>\n",
       "    <tr>\n",
       "      <th>2</th>\n",
       "      <td>I need help with canceling the last order</td>\n",
       "      <td>need help cancel last order</td>\n",
       "    </tr>\n",
       "    <tr>\n",
       "      <th>3</th>\n",
       "      <td>could you help me cancelling the last order I ...</td>\n",
       "      <td>could help cancel last order made</td>\n",
       "    </tr>\n",
       "    <tr>\n",
       "      <th>4</th>\n",
       "      <td>problem with cancelling an order I made</td>\n",
       "      <td>problem cancel order made</td>\n",
       "    </tr>\n",
       "    <tr>\n",
       "      <th>...</th>\n",
       "      <td>...</td>\n",
       "      <td>...</td>\n",
       "    </tr>\n",
       "    <tr>\n",
       "      <th>8170</th>\n",
       "      <td>I need help to check if there is any updates o...</td>\n",
       "      <td>need help check updat refund</td>\n",
       "    </tr>\n",
       "    <tr>\n",
       "      <th>8171</th>\n",
       "      <td>refund status</td>\n",
       "      <td>refund statu</td>\n",
       "    </tr>\n",
       "    <tr>\n",
       "      <th>8172</th>\n",
       "      <td>how can I check the status of the refund?</td>\n",
       "      <td>check statu refund</td>\n",
       "    </tr>\n",
       "    <tr>\n",
       "      <th>8173</th>\n",
       "      <td>help checking if there is anything wrong with ...</td>\n",
       "      <td>help check anyth wrong refund</td>\n",
       "    </tr>\n",
       "    <tr>\n",
       "      <th>8174</th>\n",
       "      <td>anything new on my refund?</td>\n",
       "      <td>anyth new refund</td>\n",
       "    </tr>\n",
       "  </tbody>\n",
       "</table>\n",
       "<p>8175 rows × 2 columns</p>\n",
       "</div>"
      ],
      "text/plain": [
       "                                              utterance  \\\n",
       "0               I have problems with canceling an order   \n",
       "1     how can I find information about canceling ord...   \n",
       "2             I need help with canceling the last order   \n",
       "3     could you help me cancelling the last order I ...   \n",
       "4               problem with cancelling an order I made   \n",
       "...                                                 ...   \n",
       "8170  I need help to check if there is any updates o...   \n",
       "8171                                      refund status   \n",
       "8172          how can I check the status of the refund?   \n",
       "8173  help checking if there is anything wrong with ...   \n",
       "8174                         anything new on my refund?   \n",
       "\n",
       "                        clean_utterance  \n",
       "0                  problem cancel order  \n",
       "1              find inform cancel order  \n",
       "2           need help cancel last order  \n",
       "3     could help cancel last order made  \n",
       "4             problem cancel order made  \n",
       "...                                 ...  \n",
       "8170       need help check updat refund  \n",
       "8171                       refund statu  \n",
       "8172                 check statu refund  \n",
       "8173      help check anyth wrong refund  \n",
       "8174                   anyth new refund  \n",
       "\n",
       "[8175 rows x 2 columns]"
      ]
     },
     "execution_count": 94,
     "metadata": {},
     "output_type": "execute_result"
    }
   ],
   "source": [
    "data[['utterance','clean_utterance']]"
   ]
  },
  {
   "cell_type": "code",
   "execution_count": 95,
   "id": "416cd8e6",
   "metadata": {},
   "outputs": [
    {
     "data": {
      "text/plain": [
       "pandas.core.series.Series"
      ]
     },
     "execution_count": 95,
     "metadata": {},
     "output_type": "execute_result"
    }
   ],
   "source": [
    "type(data['clean_utterance'])"
   ]
  },
  {
   "cell_type": "code",
   "execution_count": 96,
   "id": "35c2ac3d",
   "metadata": {},
   "outputs": [
    {
     "data": {
      "text/plain": [
       "dtype('O')"
      ]
     },
     "execution_count": 96,
     "metadata": {},
     "output_type": "execute_result"
    }
   ],
   "source": [
    "data['clean_utterance'].dtype"
   ]
  },
  {
   "cell_type": "markdown",
   "id": "fdb885b8",
   "metadata": {},
   "source": [
    "## Cleaned text into Numeric values :"
   ]
  },
  {
   "cell_type": "code",
   "execution_count": 97,
   "id": "9954bbed",
   "metadata": {},
   "outputs": [],
   "source": [
    "from sklearn.feature_extraction.text import TfidfVectorizer"
   ]
  },
  {
   "cell_type": "code",
   "execution_count": 98,
   "id": "4975a3bd",
   "metadata": {},
   "outputs": [],
   "source": [
    "vectorizer=TfidfVectorizer(max_features=5000,ngram_range=(1,2))  # Limit to 5000 features\n",
    "tfid=vectorizer.fit_transform(data['clean_utterance']) ## Convert string into numerical"
   ]
  },
  {
   "cell_type": "code",
   "execution_count": 99,
   "id": "e7c4b789",
   "metadata": {},
   "outputs": [
    {
     "name": "stdout",
     "output_type": "stream",
     "text": [
      "['abuot' 'abuot lost' 'accdss' ... 'yet wan' 'youur' 'youur servic']\n"
     ]
    }
   ],
   "source": [
    "print(vectorizer.get_feature_names_out())"
   ]
  },
  {
   "cell_type": "code",
   "execution_count": 100,
   "id": "c9813e4f",
   "metadata": {},
   "outputs": [
    {
     "name": "stdout",
     "output_type": "stream",
     "text": [
      "[[0. 0. 0. ... 0. 0. 0.]\n",
      " [0. 0. 0. ... 0. 0. 0.]\n",
      " [0. 0. 0. ... 0. 0. 0.]\n",
      " ...\n",
      " [0. 0. 0. ... 0. 0. 0.]\n",
      " [0. 0. 0. ... 0. 0. 0.]\n",
      " [0. 0. 0. ... 0. 0. 0.]]\n"
     ]
    }
   ],
   "source": [
    "print(tfid.toarray())"
   ]
  },
  {
   "cell_type": "markdown",
   "id": "47e90045",
   "metadata": {},
   "source": [
    "## Insights:\n",
    "* **Sparse Matrix:** The resulting matrix is usually sparse since most terms do not appear in every document.\n",
    "* **Efficient Representation:** TF-IDF is an effective way to represent text in a format usable by machine learning models like logistic regression, SVM, or neural networks.\n",
    "* This technique helps convert the customer utterances into numerical features that models can understand."
   ]
  },
  {
   "cell_type": "code",
   "execution_count": 101,
   "id": "b3884d99",
   "metadata": {},
   "outputs": [
    {
     "data": {
      "text/plain": [
       "scipy.sparse._csr.csr_matrix"
      ]
     },
     "execution_count": 101,
     "metadata": {},
     "output_type": "execute_result"
    }
   ],
   "source": [
    "type(tfid)"
   ]
  },
  {
   "cell_type": "code",
   "execution_count": 102,
   "id": "d59e0af3",
   "metadata": {},
   "outputs": [
    {
     "data": {
      "text/plain": [
       "dtype('float64')"
      ]
     },
     "execution_count": 102,
     "metadata": {},
     "output_type": "execute_result"
    }
   ],
   "source": [
    "tfid.dtype"
   ]
  },
  {
   "cell_type": "code",
   "execution_count": 103,
   "id": "e057abde",
   "metadata": {},
   "outputs": [
    {
     "data": {
      "text/html": [
       "<div>\n",
       "<style scoped>\n",
       "    .dataframe tbody tr th:only-of-type {\n",
       "        vertical-align: middle;\n",
       "    }\n",
       "\n",
       "    .dataframe tbody tr th {\n",
       "        vertical-align: top;\n",
       "    }\n",
       "\n",
       "    .dataframe thead th {\n",
       "        text-align: right;\n",
       "    }\n",
       "</style>\n",
       "<table border=\"1\" class=\"dataframe\">\n",
       "  <thead>\n",
       "    <tr style=\"text-align: right;\">\n",
       "      <th></th>\n",
       "      <th>flags</th>\n",
       "      <th>utterance</th>\n",
       "      <th>category</th>\n",
       "      <th>intent</th>\n",
       "      <th>clean_utterance</th>\n",
       "    </tr>\n",
       "  </thead>\n",
       "  <tbody>\n",
       "    <tr>\n",
       "      <th>0</th>\n",
       "      <td>BM</td>\n",
       "      <td>I have problems with canceling an order</td>\n",
       "      <td>ORDER</td>\n",
       "      <td>cancel_order</td>\n",
       "      <td>problem cancel order</td>\n",
       "    </tr>\n",
       "    <tr>\n",
       "      <th>1</th>\n",
       "      <td>BIM</td>\n",
       "      <td>how can I find information about canceling ord...</td>\n",
       "      <td>ORDER</td>\n",
       "      <td>cancel_order</td>\n",
       "      <td>find inform cancel order</td>\n",
       "    </tr>\n",
       "    <tr>\n",
       "      <th>2</th>\n",
       "      <td>B</td>\n",
       "      <td>I need help with canceling the last order</td>\n",
       "      <td>ORDER</td>\n",
       "      <td>cancel_order</td>\n",
       "      <td>need help cancel last order</td>\n",
       "    </tr>\n",
       "    <tr>\n",
       "      <th>3</th>\n",
       "      <td>BIP</td>\n",
       "      <td>could you help me cancelling the last order I ...</td>\n",
       "      <td>ORDER</td>\n",
       "      <td>cancel_order</td>\n",
       "      <td>could help cancel last order made</td>\n",
       "    </tr>\n",
       "    <tr>\n",
       "      <th>4</th>\n",
       "      <td>B</td>\n",
       "      <td>problem with cancelling an order I made</td>\n",
       "      <td>ORDER</td>\n",
       "      <td>cancel_order</td>\n",
       "      <td>problem cancel order made</td>\n",
       "    </tr>\n",
       "  </tbody>\n",
       "</table>\n",
       "</div>"
      ],
      "text/plain": [
       "  flags                                          utterance category  \\\n",
       "0    BM            I have problems with canceling an order    ORDER   \n",
       "1   BIM  how can I find information about canceling ord...    ORDER   \n",
       "2     B          I need help with canceling the last order    ORDER   \n",
       "3   BIP  could you help me cancelling the last order I ...    ORDER   \n",
       "4     B            problem with cancelling an order I made    ORDER   \n",
       "\n",
       "         intent                    clean_utterance  \n",
       "0  cancel_order               problem cancel order  \n",
       "1  cancel_order           find inform cancel order  \n",
       "2  cancel_order        need help cancel last order  \n",
       "3  cancel_order  could help cancel last order made  \n",
       "4  cancel_order          problem cancel order made  "
      ]
     },
     "execution_count": 103,
     "metadata": {},
     "output_type": "execute_result"
    }
   ],
   "source": [
    "data.head()"
   ]
  },
  {
   "cell_type": "markdown",
   "id": "a2626444",
   "metadata": {},
   "source": [
    "## Split the datasets :"
   ]
  },
  {
   "cell_type": "code",
   "execution_count": 104,
   "id": "bf77d189",
   "metadata": {},
   "outputs": [],
   "source": [
    "from sklearn.model_selection import train_test_split\n",
    "from sklearn.linear_model import LogisticRegression\n",
    "from sklearn.metrics import accuracy_score,classification_report"
   ]
  },
  {
   "cell_type": "code",
   "execution_count": 105,
   "id": "5380f969",
   "metadata": {},
   "outputs": [],
   "source": [
    "X_train,X_test,y_train,y_test=train_test_split(tfid,data['intent'],test_size=0.2,random_state=42)"
   ]
  },
  {
   "cell_type": "code",
   "execution_count": 106,
   "id": "6552c92a",
   "metadata": {},
   "outputs": [
    {
     "name": "stdout",
     "output_type": "stream",
     "text": [
      "(6540, 2623)\n",
      "(1635, 2623)\n",
      "(6540,)\n",
      "(1635,)\n"
     ]
    }
   ],
   "source": [
    "print(X_train.shape)\n",
    "print(X_test.shape)\n",
    "print(y_train.shape)\n",
    "print(y_test.shape)"
   ]
  },
  {
   "cell_type": "markdown",
   "id": "fc0c2f7e",
   "metadata": {},
   "source": [
    "## Implementation of the Models :"
   ]
  },
  {
   "cell_type": "markdown",
   "id": "63f72804",
   "metadata": {},
   "source": [
    "## Logistic Regression "
   ]
  },
  {
   "cell_type": "code",
   "execution_count": 107,
   "id": "afd27dbc",
   "metadata": {},
   "outputs": [
    {
     "data": {
      "text/html": [
       "<style>#sk-container-id-2 {color: black;background-color: white;}#sk-container-id-2 pre{padding: 0;}#sk-container-id-2 div.sk-toggleable {background-color: white;}#sk-container-id-2 label.sk-toggleable__label {cursor: pointer;display: block;width: 100%;margin-bottom: 0;padding: 0.3em;box-sizing: border-box;text-align: center;}#sk-container-id-2 label.sk-toggleable__label-arrow:before {content: \"▸\";float: left;margin-right: 0.25em;color: #696969;}#sk-container-id-2 label.sk-toggleable__label-arrow:hover:before {color: black;}#sk-container-id-2 div.sk-estimator:hover label.sk-toggleable__label-arrow:before {color: black;}#sk-container-id-2 div.sk-toggleable__content {max-height: 0;max-width: 0;overflow: hidden;text-align: left;background-color: #f0f8ff;}#sk-container-id-2 div.sk-toggleable__content pre {margin: 0.2em;color: black;border-radius: 0.25em;background-color: #f0f8ff;}#sk-container-id-2 input.sk-toggleable__control:checked~div.sk-toggleable__content {max-height: 200px;max-width: 100%;overflow: auto;}#sk-container-id-2 input.sk-toggleable__control:checked~label.sk-toggleable__label-arrow:before {content: \"▾\";}#sk-container-id-2 div.sk-estimator input.sk-toggleable__control:checked~label.sk-toggleable__label {background-color: #d4ebff;}#sk-container-id-2 div.sk-label input.sk-toggleable__control:checked~label.sk-toggleable__label {background-color: #d4ebff;}#sk-container-id-2 input.sk-hidden--visually {border: 0;clip: rect(1px 1px 1px 1px);clip: rect(1px, 1px, 1px, 1px);height: 1px;margin: -1px;overflow: hidden;padding: 0;position: absolute;width: 1px;}#sk-container-id-2 div.sk-estimator {font-family: monospace;background-color: #f0f8ff;border: 1px dotted black;border-radius: 0.25em;box-sizing: border-box;margin-bottom: 0.5em;}#sk-container-id-2 div.sk-estimator:hover {background-color: #d4ebff;}#sk-container-id-2 div.sk-parallel-item::after {content: \"\";width: 100%;border-bottom: 1px solid gray;flex-grow: 1;}#sk-container-id-2 div.sk-label:hover label.sk-toggleable__label {background-color: #d4ebff;}#sk-container-id-2 div.sk-serial::before {content: \"\";position: absolute;border-left: 1px solid gray;box-sizing: border-box;top: 0;bottom: 0;left: 50%;z-index: 0;}#sk-container-id-2 div.sk-serial {display: flex;flex-direction: column;align-items: center;background-color: white;padding-right: 0.2em;padding-left: 0.2em;position: relative;}#sk-container-id-2 div.sk-item {position: relative;z-index: 1;}#sk-container-id-2 div.sk-parallel {display: flex;align-items: stretch;justify-content: center;background-color: white;position: relative;}#sk-container-id-2 div.sk-item::before, #sk-container-id-2 div.sk-parallel-item::before {content: \"\";position: absolute;border-left: 1px solid gray;box-sizing: border-box;top: 0;bottom: 0;left: 50%;z-index: -1;}#sk-container-id-2 div.sk-parallel-item {display: flex;flex-direction: column;z-index: 1;position: relative;background-color: white;}#sk-container-id-2 div.sk-parallel-item:first-child::after {align-self: flex-end;width: 50%;}#sk-container-id-2 div.sk-parallel-item:last-child::after {align-self: flex-start;width: 50%;}#sk-container-id-2 div.sk-parallel-item:only-child::after {width: 0;}#sk-container-id-2 div.sk-dashed-wrapped {border: 1px dashed gray;margin: 0 0.4em 0.5em 0.4em;box-sizing: border-box;padding-bottom: 0.4em;background-color: white;}#sk-container-id-2 div.sk-label label {font-family: monospace;font-weight: bold;display: inline-block;line-height: 1.2em;}#sk-container-id-2 div.sk-label-container {text-align: center;}#sk-container-id-2 div.sk-container {/* jupyter's `normalize.less` sets `[hidden] { display: none; }` but bootstrap.min.css set `[hidden] { display: none !important; }` so we also need the `!important` here to be able to override the default hidden behavior on the sphinx rendered scikit-learn.org. See: https://github.com/scikit-learn/scikit-learn/issues/21755 */display: inline-block !important;position: relative;}#sk-container-id-2 div.sk-text-repr-fallback {display: none;}</style><div id=\"sk-container-id-2\" class=\"sk-top-container\"><div class=\"sk-text-repr-fallback\"><pre>LogisticRegression(class_weight=&#x27;balanced&#x27;)</pre><b>In a Jupyter environment, please rerun this cell to show the HTML representation or trust the notebook. <br />On GitHub, the HTML representation is unable to render, please try loading this page with nbviewer.org.</b></div><div class=\"sk-container\" hidden><div class=\"sk-item\"><div class=\"sk-estimator sk-toggleable\"><input class=\"sk-toggleable__control sk-hidden--visually\" id=\"sk-estimator-id-2\" type=\"checkbox\" checked><label for=\"sk-estimator-id-2\" class=\"sk-toggleable__label sk-toggleable__label-arrow\">LogisticRegression</label><div class=\"sk-toggleable__content\"><pre>LogisticRegression(class_weight=&#x27;balanced&#x27;)</pre></div></div></div></div></div>"
      ],
      "text/plain": [
       "LogisticRegression(class_weight='balanced')"
      ]
     },
     "execution_count": 107,
     "metadata": {},
     "output_type": "execute_result"
    }
   ],
   "source": [
    "model=LogisticRegression(class_weight='balanced')\n",
    "model.fit(X_train,y_train)"
   ]
  },
  {
   "cell_type": "code",
   "execution_count": 108,
   "id": "d3d9a557",
   "metadata": {},
   "outputs": [
    {
     "data": {
      "text/plain": [
       "array(['edit_account', 'payment_issue', 'delete_account', ..., 'review',\n",
       "       'track_refund', 'create_account'], dtype=object)"
      ]
     },
     "execution_count": 108,
     "metadata": {},
     "output_type": "execute_result"
    }
   ],
   "source": [
    "y_pred=model.predict(X_test)\n",
    "y_pred"
   ]
  },
  {
   "cell_type": "code",
   "execution_count": 109,
   "id": "53da08de",
   "metadata": {},
   "outputs": [
    {
     "data": {
      "text/plain": [
       "0.9963302752293578"
      ]
     },
     "execution_count": 109,
     "metadata": {},
     "output_type": "execute_result"
    }
   ],
   "source": [
    "accuracy_logistic=accuracy_score(y_test,y_pred)\n",
    "accuracy_logistic"
   ]
  },
  {
   "cell_type": "code",
   "execution_count": 110,
   "id": "40de99d7",
   "metadata": {},
   "outputs": [
    {
     "data": {
      "text/plain": [
       "0.9963302752293578"
      ]
     },
     "execution_count": 110,
     "metadata": {},
     "output_type": "execute_result"
    }
   ],
   "source": [
    "f1_logistic=f1_score(y_test,y_pred,average='micro')\n",
    "f1_logistic"
   ]
  },
  {
   "cell_type": "code",
   "execution_count": 111,
   "id": "5bd96f57",
   "metadata": {},
   "outputs": [
    {
     "name": "stdout",
     "output_type": "stream",
     "text": [
      "                          precision    recall  f1-score   support\n",
      "\n",
      "            cancel_order       1.00      1.00      1.00        62\n",
      "            change_order       1.00      1.00      1.00        70\n",
      " change_shipping_address       1.00      1.00      1.00        60\n",
      "  check_cancellation_fee       1.00      0.98      0.99        66\n",
      "           check_invoice       1.00      1.00      1.00        63\n",
      "   check_payment_methods       1.00      0.99      0.99        68\n",
      "     check_refund_policy       1.00      1.00      1.00        59\n",
      "               complaint       1.00      1.00      1.00        52\n",
      "contact_customer_service       1.00      1.00      1.00        61\n",
      "     contact_human_agent       0.97      1.00      0.98        57\n",
      "          create_account       0.98      0.98      0.98        62\n",
      "          delete_account       1.00      1.00      1.00        53\n",
      "        delivery_options       0.98      1.00      0.99        55\n",
      "         delivery_period       1.00      1.00      1.00        49\n",
      "            edit_account       1.00      1.00      1.00        69\n",
      "             get_invoice       1.00      1.00      1.00        72\n",
      "              get_refund       1.00      0.98      0.99        60\n",
      " newsletter_subscription       1.00      1.00      1.00        49\n",
      "           payment_issue       1.00      0.99      0.99        68\n",
      "             place_order       1.00      1.00      1.00        65\n",
      "        recover_password       1.00      1.00      1.00        62\n",
      "   registration_problems       0.98      0.98      0.98        53\n",
      "                  review       1.00      1.00      1.00        67\n",
      " set_up_shipping_address       1.00      1.00      1.00        59\n",
      "          switch_account       0.98      1.00      0.99        57\n",
      "             track_order       1.00      1.00      1.00        63\n",
      "            track_refund       1.00      1.00      1.00        54\n",
      "\n",
      "                accuracy                           1.00      1635\n",
      "               macro avg       1.00      1.00      1.00      1635\n",
      "            weighted avg       1.00      1.00      1.00      1635\n",
      "\n"
     ]
    }
   ],
   "source": [
    "print(classification_report(y_test,y_pred))"
   ]
  },
  {
   "cell_type": "markdown",
   "id": "5e7809c3",
   "metadata": {},
   "source": [
    "## Support Vector Machines:"
   ]
  },
  {
   "cell_type": "code",
   "execution_count": 112,
   "id": "a5d6dfda",
   "metadata": {},
   "outputs": [],
   "source": [
    "from sklearn.svm import SVC"
   ]
  },
  {
   "cell_type": "code",
   "execution_count": 113,
   "id": "6010b031",
   "metadata": {},
   "outputs": [
    {
     "data": {
      "text/html": [
       "<style>#sk-container-id-3 {color: black;background-color: white;}#sk-container-id-3 pre{padding: 0;}#sk-container-id-3 div.sk-toggleable {background-color: white;}#sk-container-id-3 label.sk-toggleable__label {cursor: pointer;display: block;width: 100%;margin-bottom: 0;padding: 0.3em;box-sizing: border-box;text-align: center;}#sk-container-id-3 label.sk-toggleable__label-arrow:before {content: \"▸\";float: left;margin-right: 0.25em;color: #696969;}#sk-container-id-3 label.sk-toggleable__label-arrow:hover:before {color: black;}#sk-container-id-3 div.sk-estimator:hover label.sk-toggleable__label-arrow:before {color: black;}#sk-container-id-3 div.sk-toggleable__content {max-height: 0;max-width: 0;overflow: hidden;text-align: left;background-color: #f0f8ff;}#sk-container-id-3 div.sk-toggleable__content pre {margin: 0.2em;color: black;border-radius: 0.25em;background-color: #f0f8ff;}#sk-container-id-3 input.sk-toggleable__control:checked~div.sk-toggleable__content {max-height: 200px;max-width: 100%;overflow: auto;}#sk-container-id-3 input.sk-toggleable__control:checked~label.sk-toggleable__label-arrow:before {content: \"▾\";}#sk-container-id-3 div.sk-estimator input.sk-toggleable__control:checked~label.sk-toggleable__label {background-color: #d4ebff;}#sk-container-id-3 div.sk-label input.sk-toggleable__control:checked~label.sk-toggleable__label {background-color: #d4ebff;}#sk-container-id-3 input.sk-hidden--visually {border: 0;clip: rect(1px 1px 1px 1px);clip: rect(1px, 1px, 1px, 1px);height: 1px;margin: -1px;overflow: hidden;padding: 0;position: absolute;width: 1px;}#sk-container-id-3 div.sk-estimator {font-family: monospace;background-color: #f0f8ff;border: 1px dotted black;border-radius: 0.25em;box-sizing: border-box;margin-bottom: 0.5em;}#sk-container-id-3 div.sk-estimator:hover {background-color: #d4ebff;}#sk-container-id-3 div.sk-parallel-item::after {content: \"\";width: 100%;border-bottom: 1px solid gray;flex-grow: 1;}#sk-container-id-3 div.sk-label:hover label.sk-toggleable__label {background-color: #d4ebff;}#sk-container-id-3 div.sk-serial::before {content: \"\";position: absolute;border-left: 1px solid gray;box-sizing: border-box;top: 0;bottom: 0;left: 50%;z-index: 0;}#sk-container-id-3 div.sk-serial {display: flex;flex-direction: column;align-items: center;background-color: white;padding-right: 0.2em;padding-left: 0.2em;position: relative;}#sk-container-id-3 div.sk-item {position: relative;z-index: 1;}#sk-container-id-3 div.sk-parallel {display: flex;align-items: stretch;justify-content: center;background-color: white;position: relative;}#sk-container-id-3 div.sk-item::before, #sk-container-id-3 div.sk-parallel-item::before {content: \"\";position: absolute;border-left: 1px solid gray;box-sizing: border-box;top: 0;bottom: 0;left: 50%;z-index: -1;}#sk-container-id-3 div.sk-parallel-item {display: flex;flex-direction: column;z-index: 1;position: relative;background-color: white;}#sk-container-id-3 div.sk-parallel-item:first-child::after {align-self: flex-end;width: 50%;}#sk-container-id-3 div.sk-parallel-item:last-child::after {align-self: flex-start;width: 50%;}#sk-container-id-3 div.sk-parallel-item:only-child::after {width: 0;}#sk-container-id-3 div.sk-dashed-wrapped {border: 1px dashed gray;margin: 0 0.4em 0.5em 0.4em;box-sizing: border-box;padding-bottom: 0.4em;background-color: white;}#sk-container-id-3 div.sk-label label {font-family: monospace;font-weight: bold;display: inline-block;line-height: 1.2em;}#sk-container-id-3 div.sk-label-container {text-align: center;}#sk-container-id-3 div.sk-container {/* jupyter's `normalize.less` sets `[hidden] { display: none; }` but bootstrap.min.css set `[hidden] { display: none !important; }` so we also need the `!important` here to be able to override the default hidden behavior on the sphinx rendered scikit-learn.org. See: https://github.com/scikit-learn/scikit-learn/issues/21755 */display: inline-block !important;position: relative;}#sk-container-id-3 div.sk-text-repr-fallback {display: none;}</style><div id=\"sk-container-id-3\" class=\"sk-top-container\"><div class=\"sk-text-repr-fallback\"><pre>SVC(class_weight=&#x27;balanced&#x27;)</pre><b>In a Jupyter environment, please rerun this cell to show the HTML representation or trust the notebook. <br />On GitHub, the HTML representation is unable to render, please try loading this page with nbviewer.org.</b></div><div class=\"sk-container\" hidden><div class=\"sk-item\"><div class=\"sk-estimator sk-toggleable\"><input class=\"sk-toggleable__control sk-hidden--visually\" id=\"sk-estimator-id-3\" type=\"checkbox\" checked><label for=\"sk-estimator-id-3\" class=\"sk-toggleable__label sk-toggleable__label-arrow\">SVC</label><div class=\"sk-toggleable__content\"><pre>SVC(class_weight=&#x27;balanced&#x27;)</pre></div></div></div></div></div>"
      ],
      "text/plain": [
       "SVC(class_weight='balanced')"
      ]
     },
     "execution_count": 113,
     "metadata": {},
     "output_type": "execute_result"
    }
   ],
   "source": [
    "model_svc=SVC(class_weight='balanced')\n",
    "model_svc.fit(X_train,y_train)"
   ]
  },
  {
   "cell_type": "code",
   "execution_count": 114,
   "id": "d2540323",
   "metadata": {},
   "outputs": [
    {
     "data": {
      "text/plain": [
       "array(['edit_account', 'payment_issue', 'delete_account', ..., 'review',\n",
       "       'track_refund', 'create_account'], dtype=object)"
      ]
     },
     "execution_count": 114,
     "metadata": {},
     "output_type": "execute_result"
    }
   ],
   "source": [
    "y_pred_svc=model_svc.predict(X_test)\n",
    "y_pred_svc"
   ]
  },
  {
   "cell_type": "code",
   "execution_count": 115,
   "id": "6355b224",
   "metadata": {},
   "outputs": [
    {
     "data": {
      "text/plain": [
       "0.9957186544342508"
      ]
     },
     "execution_count": 115,
     "metadata": {},
     "output_type": "execute_result"
    }
   ],
   "source": [
    "accuracy_svc=accuracy_score(y_test,y_pred_svc)\n",
    "accuracy_svc"
   ]
  },
  {
   "cell_type": "code",
   "execution_count": 116,
   "id": "039a1399",
   "metadata": {},
   "outputs": [
    {
     "data": {
      "text/plain": [
       "0.9957186544342508"
      ]
     },
     "execution_count": 116,
     "metadata": {},
     "output_type": "execute_result"
    }
   ],
   "source": [
    "f1_svc=f1_score(y_test,y_pred_svc,average='micro')\n",
    "f1_svc"
   ]
  },
  {
   "cell_type": "code",
   "execution_count": 117,
   "id": "8c3e8e39",
   "metadata": {},
   "outputs": [
    {
     "name": "stdout",
     "output_type": "stream",
     "text": [
      "                          precision    recall  f1-score   support\n",
      "\n",
      "            cancel_order       1.00      1.00      1.00        62\n",
      "            change_order       1.00      1.00      1.00        70\n",
      " change_shipping_address       1.00      1.00      1.00        60\n",
      "  check_cancellation_fee       1.00      0.98      0.99        66\n",
      "           check_invoice       1.00      1.00      1.00        63\n",
      "   check_payment_methods       1.00      0.97      0.99        68\n",
      "     check_refund_policy       1.00      1.00      1.00        59\n",
      "               complaint       1.00      1.00      1.00        52\n",
      "contact_customer_service       1.00      1.00      1.00        61\n",
      "     contact_human_agent       0.92      1.00      0.96        57\n",
      "          create_account       1.00      1.00      1.00        62\n",
      "          delete_account       1.00      1.00      1.00        53\n",
      "        delivery_options       1.00      1.00      1.00        55\n",
      "         delivery_period       1.00      1.00      1.00        49\n",
      "            edit_account       1.00      0.99      0.99        69\n",
      "             get_invoice       1.00      1.00      1.00        72\n",
      "              get_refund       1.00      0.98      0.99        60\n",
      " newsletter_subscription       1.00      0.98      0.99        49\n",
      "           payment_issue       1.00      0.99      0.99        68\n",
      "             place_order       1.00      1.00      1.00        65\n",
      "        recover_password       1.00      1.00      1.00        62\n",
      "   registration_problems       0.98      1.00      0.99        53\n",
      "                  review       1.00      1.00      1.00        67\n",
      " set_up_shipping_address       1.00      1.00      1.00        59\n",
      "          switch_account       0.98      1.00      0.99        57\n",
      "             track_order       1.00      1.00      1.00        63\n",
      "            track_refund       1.00      1.00      1.00        54\n",
      "\n",
      "                accuracy                           1.00      1635\n",
      "               macro avg       1.00      1.00      1.00      1635\n",
      "            weighted avg       1.00      1.00      1.00      1635\n",
      "\n"
     ]
    }
   ],
   "source": [
    "print(classification_report(y_test,y_pred_svc))"
   ]
  },
  {
   "cell_type": "code",
   "execution_count": 119,
   "id": "8a02e352",
   "metadata": {},
   "outputs": [],
   "source": [
    "from sklearn.metrics import f1_score,confusion_matrix"
   ]
  },
  {
   "cell_type": "code",
   "execution_count": 120,
   "id": "b8f7e0b2",
   "metadata": {},
   "outputs": [
    {
     "data": {
      "text/html": [
       "<div>\n",
       "<style scoped>\n",
       "    .dataframe tbody tr th:only-of-type {\n",
       "        vertical-align: middle;\n",
       "    }\n",
       "\n",
       "    .dataframe tbody tr th {\n",
       "        vertical-align: top;\n",
       "    }\n",
       "\n",
       "    .dataframe thead th {\n",
       "        text-align: right;\n",
       "    }\n",
       "</style>\n",
       "<table border=\"1\" class=\"dataframe\">\n",
       "  <thead>\n",
       "    <tr style=\"text-align: right;\">\n",
       "      <th>col_0</th>\n",
       "      <th>cancel_order</th>\n",
       "      <th>change_order</th>\n",
       "      <th>change_shipping_address</th>\n",
       "      <th>check_cancellation_fee</th>\n",
       "      <th>check_invoice</th>\n",
       "      <th>check_payment_methods</th>\n",
       "      <th>check_refund_policy</th>\n",
       "      <th>complaint</th>\n",
       "      <th>contact_customer_service</th>\n",
       "      <th>contact_human_agent</th>\n",
       "      <th>...</th>\n",
       "      <th>newsletter_subscription</th>\n",
       "      <th>payment_issue</th>\n",
       "      <th>place_order</th>\n",
       "      <th>recover_password</th>\n",
       "      <th>registration_problems</th>\n",
       "      <th>review</th>\n",
       "      <th>set_up_shipping_address</th>\n",
       "      <th>switch_account</th>\n",
       "      <th>track_order</th>\n",
       "      <th>track_refund</th>\n",
       "    </tr>\n",
       "    <tr>\n",
       "      <th>intent</th>\n",
       "      <th></th>\n",
       "      <th></th>\n",
       "      <th></th>\n",
       "      <th></th>\n",
       "      <th></th>\n",
       "      <th></th>\n",
       "      <th></th>\n",
       "      <th></th>\n",
       "      <th></th>\n",
       "      <th></th>\n",
       "      <th></th>\n",
       "      <th></th>\n",
       "      <th></th>\n",
       "      <th></th>\n",
       "      <th></th>\n",
       "      <th></th>\n",
       "      <th></th>\n",
       "      <th></th>\n",
       "      <th></th>\n",
       "      <th></th>\n",
       "      <th></th>\n",
       "    </tr>\n",
       "  </thead>\n",
       "  <tbody>\n",
       "    <tr>\n",
       "      <th>cancel_order</th>\n",
       "      <td>62</td>\n",
       "      <td>0</td>\n",
       "      <td>0</td>\n",
       "      <td>0</td>\n",
       "      <td>0</td>\n",
       "      <td>0</td>\n",
       "      <td>0</td>\n",
       "      <td>0</td>\n",
       "      <td>0</td>\n",
       "      <td>0</td>\n",
       "      <td>...</td>\n",
       "      <td>0</td>\n",
       "      <td>0</td>\n",
       "      <td>0</td>\n",
       "      <td>0</td>\n",
       "      <td>0</td>\n",
       "      <td>0</td>\n",
       "      <td>0</td>\n",
       "      <td>0</td>\n",
       "      <td>0</td>\n",
       "      <td>0</td>\n",
       "    </tr>\n",
       "    <tr>\n",
       "      <th>change_order</th>\n",
       "      <td>0</td>\n",
       "      <td>70</td>\n",
       "      <td>0</td>\n",
       "      <td>0</td>\n",
       "      <td>0</td>\n",
       "      <td>0</td>\n",
       "      <td>0</td>\n",
       "      <td>0</td>\n",
       "      <td>0</td>\n",
       "      <td>0</td>\n",
       "      <td>...</td>\n",
       "      <td>0</td>\n",
       "      <td>0</td>\n",
       "      <td>0</td>\n",
       "      <td>0</td>\n",
       "      <td>0</td>\n",
       "      <td>0</td>\n",
       "      <td>0</td>\n",
       "      <td>0</td>\n",
       "      <td>0</td>\n",
       "      <td>0</td>\n",
       "    </tr>\n",
       "    <tr>\n",
       "      <th>change_shipping_address</th>\n",
       "      <td>0</td>\n",
       "      <td>0</td>\n",
       "      <td>60</td>\n",
       "      <td>0</td>\n",
       "      <td>0</td>\n",
       "      <td>0</td>\n",
       "      <td>0</td>\n",
       "      <td>0</td>\n",
       "      <td>0</td>\n",
       "      <td>0</td>\n",
       "      <td>...</td>\n",
       "      <td>0</td>\n",
       "      <td>0</td>\n",
       "      <td>0</td>\n",
       "      <td>0</td>\n",
       "      <td>0</td>\n",
       "      <td>0</td>\n",
       "      <td>0</td>\n",
       "      <td>0</td>\n",
       "      <td>0</td>\n",
       "      <td>0</td>\n",
       "    </tr>\n",
       "    <tr>\n",
       "      <th>check_cancellation_fee</th>\n",
       "      <td>0</td>\n",
       "      <td>0</td>\n",
       "      <td>0</td>\n",
       "      <td>65</td>\n",
       "      <td>0</td>\n",
       "      <td>0</td>\n",
       "      <td>0</td>\n",
       "      <td>0</td>\n",
       "      <td>0</td>\n",
       "      <td>1</td>\n",
       "      <td>...</td>\n",
       "      <td>0</td>\n",
       "      <td>0</td>\n",
       "      <td>0</td>\n",
       "      <td>0</td>\n",
       "      <td>0</td>\n",
       "      <td>0</td>\n",
       "      <td>0</td>\n",
       "      <td>0</td>\n",
       "      <td>0</td>\n",
       "      <td>0</td>\n",
       "    </tr>\n",
       "    <tr>\n",
       "      <th>check_invoice</th>\n",
       "      <td>0</td>\n",
       "      <td>0</td>\n",
       "      <td>0</td>\n",
       "      <td>0</td>\n",
       "      <td>63</td>\n",
       "      <td>0</td>\n",
       "      <td>0</td>\n",
       "      <td>0</td>\n",
       "      <td>0</td>\n",
       "      <td>0</td>\n",
       "      <td>...</td>\n",
       "      <td>0</td>\n",
       "      <td>0</td>\n",
       "      <td>0</td>\n",
       "      <td>0</td>\n",
       "      <td>0</td>\n",
       "      <td>0</td>\n",
       "      <td>0</td>\n",
       "      <td>0</td>\n",
       "      <td>0</td>\n",
       "      <td>0</td>\n",
       "    </tr>\n",
       "    <tr>\n",
       "      <th>check_payment_methods</th>\n",
       "      <td>0</td>\n",
       "      <td>0</td>\n",
       "      <td>0</td>\n",
       "      <td>0</td>\n",
       "      <td>0</td>\n",
       "      <td>66</td>\n",
       "      <td>0</td>\n",
       "      <td>0</td>\n",
       "      <td>0</td>\n",
       "      <td>2</td>\n",
       "      <td>...</td>\n",
       "      <td>0</td>\n",
       "      <td>0</td>\n",
       "      <td>0</td>\n",
       "      <td>0</td>\n",
       "      <td>0</td>\n",
       "      <td>0</td>\n",
       "      <td>0</td>\n",
       "      <td>0</td>\n",
       "      <td>0</td>\n",
       "      <td>0</td>\n",
       "    </tr>\n",
       "    <tr>\n",
       "      <th>check_refund_policy</th>\n",
       "      <td>0</td>\n",
       "      <td>0</td>\n",
       "      <td>0</td>\n",
       "      <td>0</td>\n",
       "      <td>0</td>\n",
       "      <td>0</td>\n",
       "      <td>59</td>\n",
       "      <td>0</td>\n",
       "      <td>0</td>\n",
       "      <td>0</td>\n",
       "      <td>...</td>\n",
       "      <td>0</td>\n",
       "      <td>0</td>\n",
       "      <td>0</td>\n",
       "      <td>0</td>\n",
       "      <td>0</td>\n",
       "      <td>0</td>\n",
       "      <td>0</td>\n",
       "      <td>0</td>\n",
       "      <td>0</td>\n",
       "      <td>0</td>\n",
       "    </tr>\n",
       "    <tr>\n",
       "      <th>complaint</th>\n",
       "      <td>0</td>\n",
       "      <td>0</td>\n",
       "      <td>0</td>\n",
       "      <td>0</td>\n",
       "      <td>0</td>\n",
       "      <td>0</td>\n",
       "      <td>0</td>\n",
       "      <td>52</td>\n",
       "      <td>0</td>\n",
       "      <td>0</td>\n",
       "      <td>...</td>\n",
       "      <td>0</td>\n",
       "      <td>0</td>\n",
       "      <td>0</td>\n",
       "      <td>0</td>\n",
       "      <td>0</td>\n",
       "      <td>0</td>\n",
       "      <td>0</td>\n",
       "      <td>0</td>\n",
       "      <td>0</td>\n",
       "      <td>0</td>\n",
       "    </tr>\n",
       "    <tr>\n",
       "      <th>contact_customer_service</th>\n",
       "      <td>0</td>\n",
       "      <td>0</td>\n",
       "      <td>0</td>\n",
       "      <td>0</td>\n",
       "      <td>0</td>\n",
       "      <td>0</td>\n",
       "      <td>0</td>\n",
       "      <td>0</td>\n",
       "      <td>61</td>\n",
       "      <td>0</td>\n",
       "      <td>...</td>\n",
       "      <td>0</td>\n",
       "      <td>0</td>\n",
       "      <td>0</td>\n",
       "      <td>0</td>\n",
       "      <td>0</td>\n",
       "      <td>0</td>\n",
       "      <td>0</td>\n",
       "      <td>0</td>\n",
       "      <td>0</td>\n",
       "      <td>0</td>\n",
       "    </tr>\n",
       "    <tr>\n",
       "      <th>contact_human_agent</th>\n",
       "      <td>0</td>\n",
       "      <td>0</td>\n",
       "      <td>0</td>\n",
       "      <td>0</td>\n",
       "      <td>0</td>\n",
       "      <td>0</td>\n",
       "      <td>0</td>\n",
       "      <td>0</td>\n",
       "      <td>0</td>\n",
       "      <td>57</td>\n",
       "      <td>...</td>\n",
       "      <td>0</td>\n",
       "      <td>0</td>\n",
       "      <td>0</td>\n",
       "      <td>0</td>\n",
       "      <td>0</td>\n",
       "      <td>0</td>\n",
       "      <td>0</td>\n",
       "      <td>0</td>\n",
       "      <td>0</td>\n",
       "      <td>0</td>\n",
       "    </tr>\n",
       "    <tr>\n",
       "      <th>create_account</th>\n",
       "      <td>0</td>\n",
       "      <td>0</td>\n",
       "      <td>0</td>\n",
       "      <td>0</td>\n",
       "      <td>0</td>\n",
       "      <td>0</td>\n",
       "      <td>0</td>\n",
       "      <td>0</td>\n",
       "      <td>0</td>\n",
       "      <td>0</td>\n",
       "      <td>...</td>\n",
       "      <td>0</td>\n",
       "      <td>0</td>\n",
       "      <td>0</td>\n",
       "      <td>0</td>\n",
       "      <td>0</td>\n",
       "      <td>0</td>\n",
       "      <td>0</td>\n",
       "      <td>0</td>\n",
       "      <td>0</td>\n",
       "      <td>0</td>\n",
       "    </tr>\n",
       "    <tr>\n",
       "      <th>delete_account</th>\n",
       "      <td>0</td>\n",
       "      <td>0</td>\n",
       "      <td>0</td>\n",
       "      <td>0</td>\n",
       "      <td>0</td>\n",
       "      <td>0</td>\n",
       "      <td>0</td>\n",
       "      <td>0</td>\n",
       "      <td>0</td>\n",
       "      <td>0</td>\n",
       "      <td>...</td>\n",
       "      <td>0</td>\n",
       "      <td>0</td>\n",
       "      <td>0</td>\n",
       "      <td>0</td>\n",
       "      <td>0</td>\n",
       "      <td>0</td>\n",
       "      <td>0</td>\n",
       "      <td>0</td>\n",
       "      <td>0</td>\n",
       "      <td>0</td>\n",
       "    </tr>\n",
       "    <tr>\n",
       "      <th>delivery_options</th>\n",
       "      <td>0</td>\n",
       "      <td>0</td>\n",
       "      <td>0</td>\n",
       "      <td>0</td>\n",
       "      <td>0</td>\n",
       "      <td>0</td>\n",
       "      <td>0</td>\n",
       "      <td>0</td>\n",
       "      <td>0</td>\n",
       "      <td>0</td>\n",
       "      <td>...</td>\n",
       "      <td>0</td>\n",
       "      <td>0</td>\n",
       "      <td>0</td>\n",
       "      <td>0</td>\n",
       "      <td>0</td>\n",
       "      <td>0</td>\n",
       "      <td>0</td>\n",
       "      <td>0</td>\n",
       "      <td>0</td>\n",
       "      <td>0</td>\n",
       "    </tr>\n",
       "    <tr>\n",
       "      <th>delivery_period</th>\n",
       "      <td>0</td>\n",
       "      <td>0</td>\n",
       "      <td>0</td>\n",
       "      <td>0</td>\n",
       "      <td>0</td>\n",
       "      <td>0</td>\n",
       "      <td>0</td>\n",
       "      <td>0</td>\n",
       "      <td>0</td>\n",
       "      <td>0</td>\n",
       "      <td>...</td>\n",
       "      <td>0</td>\n",
       "      <td>0</td>\n",
       "      <td>0</td>\n",
       "      <td>0</td>\n",
       "      <td>0</td>\n",
       "      <td>0</td>\n",
       "      <td>0</td>\n",
       "      <td>0</td>\n",
       "      <td>0</td>\n",
       "      <td>0</td>\n",
       "    </tr>\n",
       "    <tr>\n",
       "      <th>edit_account</th>\n",
       "      <td>0</td>\n",
       "      <td>0</td>\n",
       "      <td>0</td>\n",
       "      <td>0</td>\n",
       "      <td>0</td>\n",
       "      <td>0</td>\n",
       "      <td>0</td>\n",
       "      <td>0</td>\n",
       "      <td>0</td>\n",
       "      <td>0</td>\n",
       "      <td>...</td>\n",
       "      <td>0</td>\n",
       "      <td>0</td>\n",
       "      <td>0</td>\n",
       "      <td>0</td>\n",
       "      <td>0</td>\n",
       "      <td>0</td>\n",
       "      <td>0</td>\n",
       "      <td>1</td>\n",
       "      <td>0</td>\n",
       "      <td>0</td>\n",
       "    </tr>\n",
       "    <tr>\n",
       "      <th>get_invoice</th>\n",
       "      <td>0</td>\n",
       "      <td>0</td>\n",
       "      <td>0</td>\n",
       "      <td>0</td>\n",
       "      <td>0</td>\n",
       "      <td>0</td>\n",
       "      <td>0</td>\n",
       "      <td>0</td>\n",
       "      <td>0</td>\n",
       "      <td>0</td>\n",
       "      <td>...</td>\n",
       "      <td>0</td>\n",
       "      <td>0</td>\n",
       "      <td>0</td>\n",
       "      <td>0</td>\n",
       "      <td>0</td>\n",
       "      <td>0</td>\n",
       "      <td>0</td>\n",
       "      <td>0</td>\n",
       "      <td>0</td>\n",
       "      <td>0</td>\n",
       "    </tr>\n",
       "    <tr>\n",
       "      <th>get_refund</th>\n",
       "      <td>0</td>\n",
       "      <td>0</td>\n",
       "      <td>0</td>\n",
       "      <td>0</td>\n",
       "      <td>0</td>\n",
       "      <td>0</td>\n",
       "      <td>0</td>\n",
       "      <td>0</td>\n",
       "      <td>0</td>\n",
       "      <td>1</td>\n",
       "      <td>...</td>\n",
       "      <td>0</td>\n",
       "      <td>0</td>\n",
       "      <td>0</td>\n",
       "      <td>0</td>\n",
       "      <td>0</td>\n",
       "      <td>0</td>\n",
       "      <td>0</td>\n",
       "      <td>0</td>\n",
       "      <td>0</td>\n",
       "      <td>0</td>\n",
       "    </tr>\n",
       "    <tr>\n",
       "      <th>newsletter_subscription</th>\n",
       "      <td>0</td>\n",
       "      <td>0</td>\n",
       "      <td>0</td>\n",
       "      <td>0</td>\n",
       "      <td>0</td>\n",
       "      <td>0</td>\n",
       "      <td>0</td>\n",
       "      <td>0</td>\n",
       "      <td>0</td>\n",
       "      <td>1</td>\n",
       "      <td>...</td>\n",
       "      <td>48</td>\n",
       "      <td>0</td>\n",
       "      <td>0</td>\n",
       "      <td>0</td>\n",
       "      <td>0</td>\n",
       "      <td>0</td>\n",
       "      <td>0</td>\n",
       "      <td>0</td>\n",
       "      <td>0</td>\n",
       "      <td>0</td>\n",
       "    </tr>\n",
       "    <tr>\n",
       "      <th>payment_issue</th>\n",
       "      <td>0</td>\n",
       "      <td>0</td>\n",
       "      <td>0</td>\n",
       "      <td>0</td>\n",
       "      <td>0</td>\n",
       "      <td>0</td>\n",
       "      <td>0</td>\n",
       "      <td>0</td>\n",
       "      <td>0</td>\n",
       "      <td>0</td>\n",
       "      <td>...</td>\n",
       "      <td>0</td>\n",
       "      <td>67</td>\n",
       "      <td>0</td>\n",
       "      <td>0</td>\n",
       "      <td>1</td>\n",
       "      <td>0</td>\n",
       "      <td>0</td>\n",
       "      <td>0</td>\n",
       "      <td>0</td>\n",
       "      <td>0</td>\n",
       "    </tr>\n",
       "    <tr>\n",
       "      <th>place_order</th>\n",
       "      <td>0</td>\n",
       "      <td>0</td>\n",
       "      <td>0</td>\n",
       "      <td>0</td>\n",
       "      <td>0</td>\n",
       "      <td>0</td>\n",
       "      <td>0</td>\n",
       "      <td>0</td>\n",
       "      <td>0</td>\n",
       "      <td>0</td>\n",
       "      <td>...</td>\n",
       "      <td>0</td>\n",
       "      <td>0</td>\n",
       "      <td>65</td>\n",
       "      <td>0</td>\n",
       "      <td>0</td>\n",
       "      <td>0</td>\n",
       "      <td>0</td>\n",
       "      <td>0</td>\n",
       "      <td>0</td>\n",
       "      <td>0</td>\n",
       "    </tr>\n",
       "    <tr>\n",
       "      <th>recover_password</th>\n",
       "      <td>0</td>\n",
       "      <td>0</td>\n",
       "      <td>0</td>\n",
       "      <td>0</td>\n",
       "      <td>0</td>\n",
       "      <td>0</td>\n",
       "      <td>0</td>\n",
       "      <td>0</td>\n",
       "      <td>0</td>\n",
       "      <td>0</td>\n",
       "      <td>...</td>\n",
       "      <td>0</td>\n",
       "      <td>0</td>\n",
       "      <td>0</td>\n",
       "      <td>62</td>\n",
       "      <td>0</td>\n",
       "      <td>0</td>\n",
       "      <td>0</td>\n",
       "      <td>0</td>\n",
       "      <td>0</td>\n",
       "      <td>0</td>\n",
       "    </tr>\n",
       "    <tr>\n",
       "      <th>registration_problems</th>\n",
       "      <td>0</td>\n",
       "      <td>0</td>\n",
       "      <td>0</td>\n",
       "      <td>0</td>\n",
       "      <td>0</td>\n",
       "      <td>0</td>\n",
       "      <td>0</td>\n",
       "      <td>0</td>\n",
       "      <td>0</td>\n",
       "      <td>0</td>\n",
       "      <td>...</td>\n",
       "      <td>0</td>\n",
       "      <td>0</td>\n",
       "      <td>0</td>\n",
       "      <td>0</td>\n",
       "      <td>53</td>\n",
       "      <td>0</td>\n",
       "      <td>0</td>\n",
       "      <td>0</td>\n",
       "      <td>0</td>\n",
       "      <td>0</td>\n",
       "    </tr>\n",
       "    <tr>\n",
       "      <th>review</th>\n",
       "      <td>0</td>\n",
       "      <td>0</td>\n",
       "      <td>0</td>\n",
       "      <td>0</td>\n",
       "      <td>0</td>\n",
       "      <td>0</td>\n",
       "      <td>0</td>\n",
       "      <td>0</td>\n",
       "      <td>0</td>\n",
       "      <td>0</td>\n",
       "      <td>...</td>\n",
       "      <td>0</td>\n",
       "      <td>0</td>\n",
       "      <td>0</td>\n",
       "      <td>0</td>\n",
       "      <td>0</td>\n",
       "      <td>67</td>\n",
       "      <td>0</td>\n",
       "      <td>0</td>\n",
       "      <td>0</td>\n",
       "      <td>0</td>\n",
       "    </tr>\n",
       "    <tr>\n",
       "      <th>set_up_shipping_address</th>\n",
       "      <td>0</td>\n",
       "      <td>0</td>\n",
       "      <td>0</td>\n",
       "      <td>0</td>\n",
       "      <td>0</td>\n",
       "      <td>0</td>\n",
       "      <td>0</td>\n",
       "      <td>0</td>\n",
       "      <td>0</td>\n",
       "      <td>0</td>\n",
       "      <td>...</td>\n",
       "      <td>0</td>\n",
       "      <td>0</td>\n",
       "      <td>0</td>\n",
       "      <td>0</td>\n",
       "      <td>0</td>\n",
       "      <td>0</td>\n",
       "      <td>59</td>\n",
       "      <td>0</td>\n",
       "      <td>0</td>\n",
       "      <td>0</td>\n",
       "    </tr>\n",
       "    <tr>\n",
       "      <th>switch_account</th>\n",
       "      <td>0</td>\n",
       "      <td>0</td>\n",
       "      <td>0</td>\n",
       "      <td>0</td>\n",
       "      <td>0</td>\n",
       "      <td>0</td>\n",
       "      <td>0</td>\n",
       "      <td>0</td>\n",
       "      <td>0</td>\n",
       "      <td>0</td>\n",
       "      <td>...</td>\n",
       "      <td>0</td>\n",
       "      <td>0</td>\n",
       "      <td>0</td>\n",
       "      <td>0</td>\n",
       "      <td>0</td>\n",
       "      <td>0</td>\n",
       "      <td>0</td>\n",
       "      <td>57</td>\n",
       "      <td>0</td>\n",
       "      <td>0</td>\n",
       "    </tr>\n",
       "    <tr>\n",
       "      <th>track_order</th>\n",
       "      <td>0</td>\n",
       "      <td>0</td>\n",
       "      <td>0</td>\n",
       "      <td>0</td>\n",
       "      <td>0</td>\n",
       "      <td>0</td>\n",
       "      <td>0</td>\n",
       "      <td>0</td>\n",
       "      <td>0</td>\n",
       "      <td>0</td>\n",
       "      <td>...</td>\n",
       "      <td>0</td>\n",
       "      <td>0</td>\n",
       "      <td>0</td>\n",
       "      <td>0</td>\n",
       "      <td>0</td>\n",
       "      <td>0</td>\n",
       "      <td>0</td>\n",
       "      <td>0</td>\n",
       "      <td>63</td>\n",
       "      <td>0</td>\n",
       "    </tr>\n",
       "    <tr>\n",
       "      <th>track_refund</th>\n",
       "      <td>0</td>\n",
       "      <td>0</td>\n",
       "      <td>0</td>\n",
       "      <td>0</td>\n",
       "      <td>0</td>\n",
       "      <td>0</td>\n",
       "      <td>0</td>\n",
       "      <td>0</td>\n",
       "      <td>0</td>\n",
       "      <td>0</td>\n",
       "      <td>...</td>\n",
       "      <td>0</td>\n",
       "      <td>0</td>\n",
       "      <td>0</td>\n",
       "      <td>0</td>\n",
       "      <td>0</td>\n",
       "      <td>0</td>\n",
       "      <td>0</td>\n",
       "      <td>0</td>\n",
       "      <td>0</td>\n",
       "      <td>54</td>\n",
       "    </tr>\n",
       "  </tbody>\n",
       "</table>\n",
       "<p>27 rows × 27 columns</p>\n",
       "</div>"
      ],
      "text/plain": [
       "col_0                     cancel_order  change_order  change_shipping_address  \\\n",
       "intent                                                                          \n",
       "cancel_order                        62             0                        0   \n",
       "change_order                         0            70                        0   \n",
       "change_shipping_address              0             0                       60   \n",
       "check_cancellation_fee               0             0                        0   \n",
       "check_invoice                        0             0                        0   \n",
       "check_payment_methods                0             0                        0   \n",
       "check_refund_policy                  0             0                        0   \n",
       "complaint                            0             0                        0   \n",
       "contact_customer_service             0             0                        0   \n",
       "contact_human_agent                  0             0                        0   \n",
       "create_account                       0             0                        0   \n",
       "delete_account                       0             0                        0   \n",
       "delivery_options                     0             0                        0   \n",
       "delivery_period                      0             0                        0   \n",
       "edit_account                         0             0                        0   \n",
       "get_invoice                          0             0                        0   \n",
       "get_refund                           0             0                        0   \n",
       "newsletter_subscription              0             0                        0   \n",
       "payment_issue                        0             0                        0   \n",
       "place_order                          0             0                        0   \n",
       "recover_password                     0             0                        0   \n",
       "registration_problems                0             0                        0   \n",
       "review                               0             0                        0   \n",
       "set_up_shipping_address              0             0                        0   \n",
       "switch_account                       0             0                        0   \n",
       "track_order                          0             0                        0   \n",
       "track_refund                         0             0                        0   \n",
       "\n",
       "col_0                     check_cancellation_fee  check_invoice  \\\n",
       "intent                                                            \n",
       "cancel_order                                   0              0   \n",
       "change_order                                   0              0   \n",
       "change_shipping_address                        0              0   \n",
       "check_cancellation_fee                        65              0   \n",
       "check_invoice                                  0             63   \n",
       "check_payment_methods                          0              0   \n",
       "check_refund_policy                            0              0   \n",
       "complaint                                      0              0   \n",
       "contact_customer_service                       0              0   \n",
       "contact_human_agent                            0              0   \n",
       "create_account                                 0              0   \n",
       "delete_account                                 0              0   \n",
       "delivery_options                               0              0   \n",
       "delivery_period                                0              0   \n",
       "edit_account                                   0              0   \n",
       "get_invoice                                    0              0   \n",
       "get_refund                                     0              0   \n",
       "newsletter_subscription                        0              0   \n",
       "payment_issue                                  0              0   \n",
       "place_order                                    0              0   \n",
       "recover_password                               0              0   \n",
       "registration_problems                          0              0   \n",
       "review                                         0              0   \n",
       "set_up_shipping_address                        0              0   \n",
       "switch_account                                 0              0   \n",
       "track_order                                    0              0   \n",
       "track_refund                                   0              0   \n",
       "\n",
       "col_0                     check_payment_methods  check_refund_policy  \\\n",
       "intent                                                                 \n",
       "cancel_order                                  0                    0   \n",
       "change_order                                  0                    0   \n",
       "change_shipping_address                       0                    0   \n",
       "check_cancellation_fee                        0                    0   \n",
       "check_invoice                                 0                    0   \n",
       "check_payment_methods                        66                    0   \n",
       "check_refund_policy                           0                   59   \n",
       "complaint                                     0                    0   \n",
       "contact_customer_service                      0                    0   \n",
       "contact_human_agent                           0                    0   \n",
       "create_account                                0                    0   \n",
       "delete_account                                0                    0   \n",
       "delivery_options                              0                    0   \n",
       "delivery_period                               0                    0   \n",
       "edit_account                                  0                    0   \n",
       "get_invoice                                   0                    0   \n",
       "get_refund                                    0                    0   \n",
       "newsletter_subscription                       0                    0   \n",
       "payment_issue                                 0                    0   \n",
       "place_order                                   0                    0   \n",
       "recover_password                              0                    0   \n",
       "registration_problems                         0                    0   \n",
       "review                                        0                    0   \n",
       "set_up_shipping_address                       0                    0   \n",
       "switch_account                                0                    0   \n",
       "track_order                                   0                    0   \n",
       "track_refund                                  0                    0   \n",
       "\n",
       "col_0                     complaint  contact_customer_service  \\\n",
       "intent                                                          \n",
       "cancel_order                      0                         0   \n",
       "change_order                      0                         0   \n",
       "change_shipping_address           0                         0   \n",
       "check_cancellation_fee            0                         0   \n",
       "check_invoice                     0                         0   \n",
       "check_payment_methods             0                         0   \n",
       "check_refund_policy               0                         0   \n",
       "complaint                        52                         0   \n",
       "contact_customer_service          0                        61   \n",
       "contact_human_agent               0                         0   \n",
       "create_account                    0                         0   \n",
       "delete_account                    0                         0   \n",
       "delivery_options                  0                         0   \n",
       "delivery_period                   0                         0   \n",
       "edit_account                      0                         0   \n",
       "get_invoice                       0                         0   \n",
       "get_refund                        0                         0   \n",
       "newsletter_subscription           0                         0   \n",
       "payment_issue                     0                         0   \n",
       "place_order                       0                         0   \n",
       "recover_password                  0                         0   \n",
       "registration_problems             0                         0   \n",
       "review                            0                         0   \n",
       "set_up_shipping_address           0                         0   \n",
       "switch_account                    0                         0   \n",
       "track_order                       0                         0   \n",
       "track_refund                      0                         0   \n",
       "\n",
       "col_0                     contact_human_agent  ...  newsletter_subscription  \\\n",
       "intent                                         ...                            \n",
       "cancel_order                                0  ...                        0   \n",
       "change_order                                0  ...                        0   \n",
       "change_shipping_address                     0  ...                        0   \n",
       "check_cancellation_fee                      1  ...                        0   \n",
       "check_invoice                               0  ...                        0   \n",
       "check_payment_methods                       2  ...                        0   \n",
       "check_refund_policy                         0  ...                        0   \n",
       "complaint                                   0  ...                        0   \n",
       "contact_customer_service                    0  ...                        0   \n",
       "contact_human_agent                        57  ...                        0   \n",
       "create_account                              0  ...                        0   \n",
       "delete_account                              0  ...                        0   \n",
       "delivery_options                            0  ...                        0   \n",
       "delivery_period                             0  ...                        0   \n",
       "edit_account                                0  ...                        0   \n",
       "get_invoice                                 0  ...                        0   \n",
       "get_refund                                  1  ...                        0   \n",
       "newsletter_subscription                     1  ...                       48   \n",
       "payment_issue                               0  ...                        0   \n",
       "place_order                                 0  ...                        0   \n",
       "recover_password                            0  ...                        0   \n",
       "registration_problems                       0  ...                        0   \n",
       "review                                      0  ...                        0   \n",
       "set_up_shipping_address                     0  ...                        0   \n",
       "switch_account                              0  ...                        0   \n",
       "track_order                                 0  ...                        0   \n",
       "track_refund                                0  ...                        0   \n",
       "\n",
       "col_0                     payment_issue  place_order  recover_password  \\\n",
       "intent                                                                   \n",
       "cancel_order                          0            0                 0   \n",
       "change_order                          0            0                 0   \n",
       "change_shipping_address               0            0                 0   \n",
       "check_cancellation_fee                0            0                 0   \n",
       "check_invoice                         0            0                 0   \n",
       "check_payment_methods                 0            0                 0   \n",
       "check_refund_policy                   0            0                 0   \n",
       "complaint                             0            0                 0   \n",
       "contact_customer_service              0            0                 0   \n",
       "contact_human_agent                   0            0                 0   \n",
       "create_account                        0            0                 0   \n",
       "delete_account                        0            0                 0   \n",
       "delivery_options                      0            0                 0   \n",
       "delivery_period                       0            0                 0   \n",
       "edit_account                          0            0                 0   \n",
       "get_invoice                           0            0                 0   \n",
       "get_refund                            0            0                 0   \n",
       "newsletter_subscription               0            0                 0   \n",
       "payment_issue                        67            0                 0   \n",
       "place_order                           0           65                 0   \n",
       "recover_password                      0            0                62   \n",
       "registration_problems                 0            0                 0   \n",
       "review                                0            0                 0   \n",
       "set_up_shipping_address               0            0                 0   \n",
       "switch_account                        0            0                 0   \n",
       "track_order                           0            0                 0   \n",
       "track_refund                          0            0                 0   \n",
       "\n",
       "col_0                     registration_problems  review  \\\n",
       "intent                                                    \n",
       "cancel_order                                  0       0   \n",
       "change_order                                  0       0   \n",
       "change_shipping_address                       0       0   \n",
       "check_cancellation_fee                        0       0   \n",
       "check_invoice                                 0       0   \n",
       "check_payment_methods                         0       0   \n",
       "check_refund_policy                           0       0   \n",
       "complaint                                     0       0   \n",
       "contact_customer_service                      0       0   \n",
       "contact_human_agent                           0       0   \n",
       "create_account                                0       0   \n",
       "delete_account                                0       0   \n",
       "delivery_options                              0       0   \n",
       "delivery_period                               0       0   \n",
       "edit_account                                  0       0   \n",
       "get_invoice                                   0       0   \n",
       "get_refund                                    0       0   \n",
       "newsletter_subscription                       0       0   \n",
       "payment_issue                                 1       0   \n",
       "place_order                                   0       0   \n",
       "recover_password                              0       0   \n",
       "registration_problems                        53       0   \n",
       "review                                        0      67   \n",
       "set_up_shipping_address                       0       0   \n",
       "switch_account                                0       0   \n",
       "track_order                                   0       0   \n",
       "track_refund                                  0       0   \n",
       "\n",
       "col_0                     set_up_shipping_address  switch_account  \\\n",
       "intent                                                              \n",
       "cancel_order                                    0               0   \n",
       "change_order                                    0               0   \n",
       "change_shipping_address                         0               0   \n",
       "check_cancellation_fee                          0               0   \n",
       "check_invoice                                   0               0   \n",
       "check_payment_methods                           0               0   \n",
       "check_refund_policy                             0               0   \n",
       "complaint                                       0               0   \n",
       "contact_customer_service                        0               0   \n",
       "contact_human_agent                             0               0   \n",
       "create_account                                  0               0   \n",
       "delete_account                                  0               0   \n",
       "delivery_options                                0               0   \n",
       "delivery_period                                 0               0   \n",
       "edit_account                                    0               1   \n",
       "get_invoice                                     0               0   \n",
       "get_refund                                      0               0   \n",
       "newsletter_subscription                         0               0   \n",
       "payment_issue                                   0               0   \n",
       "place_order                                     0               0   \n",
       "recover_password                                0               0   \n",
       "registration_problems                           0               0   \n",
       "review                                          0               0   \n",
       "set_up_shipping_address                        59               0   \n",
       "switch_account                                  0              57   \n",
       "track_order                                     0               0   \n",
       "track_refund                                    0               0   \n",
       "\n",
       "col_0                     track_order  track_refund  \n",
       "intent                                               \n",
       "cancel_order                        0             0  \n",
       "change_order                        0             0  \n",
       "change_shipping_address             0             0  \n",
       "check_cancellation_fee              0             0  \n",
       "check_invoice                       0             0  \n",
       "check_payment_methods               0             0  \n",
       "check_refund_policy                 0             0  \n",
       "complaint                           0             0  \n",
       "contact_customer_service            0             0  \n",
       "contact_human_agent                 0             0  \n",
       "create_account                      0             0  \n",
       "delete_account                      0             0  \n",
       "delivery_options                    0             0  \n",
       "delivery_period                     0             0  \n",
       "edit_account                        0             0  \n",
       "get_invoice                         0             0  \n",
       "get_refund                          0             0  \n",
       "newsletter_subscription             0             0  \n",
       "payment_issue                       0             0  \n",
       "place_order                         0             0  \n",
       "recover_password                    0             0  \n",
       "registration_problems               0             0  \n",
       "review                              0             0  \n",
       "set_up_shipping_address             0             0  \n",
       "switch_account                      0             0  \n",
       "track_order                        63             0  \n",
       "track_refund                        0            54  \n",
       "\n",
       "[27 rows x 27 columns]"
      ]
     },
     "execution_count": 120,
     "metadata": {},
     "output_type": "execute_result"
    }
   ],
   "source": [
    "pd.crosstab(y_test,y_pred_svc)"
   ]
  },
  {
   "cell_type": "code",
   "execution_count": 121,
   "id": "bd5b1815",
   "metadata": {},
   "outputs": [],
   "source": [
    "cm=confusion_matrix(y_test,y_pred_svc)"
   ]
  },
  {
   "cell_type": "code",
   "execution_count": 75,
   "id": "88eac300",
   "metadata": {},
   "outputs": [],
   "source": [
    "import matplotlib.pyplot as plt\n",
    "import seaborn as sns"
   ]
  },
  {
   "cell_type": "code",
   "execution_count": 76,
   "id": "a5ca3ba5",
   "metadata": {},
   "outputs": [],
   "source": [
    "labels_names=['Negative', 'Positive']"
   ]
  },
  {
   "cell_type": "code",
   "execution_count": 77,
   "id": "df67e714",
   "metadata": {},
   "outputs": [
    {
     "data": {
      "image/png": "[encoded data removed]",
      "text/plain": [
       "<Figure size 600x400 with 2 Axes>"
      ]
     },
     "metadata": {},
     "output_type": "display_data"
    }
   ],
   "source": [
    "plt.figure(figsize=(6,4))\n",
    "sns.heatmap(cm, annot=True, fmt='d', cmap='Blues', xticklabels=labels_names, yticklabels=labels_names)\n",
    "plt.ylabel('Actual')\n",
    "plt.xlabel('Predicted')\n",
    "plt.title('Confusion Matrix')\n",
    "plt.show()"
   ]
  },
  {
   "cell_type": "markdown",
   "id": "df6d0f1e",
   "metadata": {},
   "source": [
    "## Hyper Parameters Logistic Regression:"
   ]
  },
  {
   "cell_type": "code",
   "execution_count": 122,
   "id": "ad30dd9e",
   "metadata": {},
   "outputs": [],
   "source": [
    "from sklearn.model_selection import GridSearchCV"
   ]
  },
  {
   "cell_type": "code",
   "execution_count": 89,
   "id": "1f61feca",
   "metadata": {},
   "outputs": [
    {
     "data": {
      "text/plain": [
       "100"
      ]
     },
     "execution_count": 89,
     "metadata": {},
     "output_type": "execute_result"
    }
   ],
   "source": [
    "parameters = {'C': [0.01, 0.1, 1, 10, 100]}\n",
    "lr = LogisticRegression(max_iter=1000)\n",
    "clf = GridSearchCV(lr, parameters, cv=5)\n",
    "clf.fit(X_train, y_train)\n",
    "best_C = clf.best_params_['C']\n",
    "best_C"
   ]
  },
  {
   "cell_type": "code",
   "execution_count": 123,
   "id": "9d571e67",
   "metadata": {},
   "outputs": [
    {
     "data": {
      "text/html": [
       "<style>#sk-container-id-4 {color: black;background-color: white;}#sk-container-id-4 pre{padding: 0;}#sk-container-id-4 div.sk-toggleable {background-color: white;}#sk-container-id-4 label.sk-toggleable__label {cursor: pointer;display: block;width: 100%;margin-bottom: 0;padding: 0.3em;box-sizing: border-box;text-align: center;}#sk-container-id-4 label.sk-toggleable__label-arrow:before {content: \"▸\";float: left;margin-right: 0.25em;color: #696969;}#sk-container-id-4 label.sk-toggleable__label-arrow:hover:before {color: black;}#sk-container-id-4 div.sk-estimator:hover label.sk-toggleable__label-arrow:before {color: black;}#sk-container-id-4 div.sk-toggleable__content {max-height: 0;max-width: 0;overflow: hidden;text-align: left;background-color: #f0f8ff;}#sk-container-id-4 div.sk-toggleable__content pre {margin: 0.2em;color: black;border-radius: 0.25em;background-color: #f0f8ff;}#sk-container-id-4 input.sk-toggleable__control:checked~div.sk-toggleable__content {max-height: 200px;max-width: 100%;overflow: auto;}#sk-container-id-4 input.sk-toggleable__control:checked~label.sk-toggleable__label-arrow:before {content: \"▾\";}#sk-container-id-4 div.sk-estimator input.sk-toggleable__control:checked~label.sk-toggleable__label {background-color: #d4ebff;}#sk-container-id-4 div.sk-label input.sk-toggleable__control:checked~label.sk-toggleable__label {background-color: #d4ebff;}#sk-container-id-4 input.sk-hidden--visually {border: 0;clip: rect(1px 1px 1px 1px);clip: rect(1px, 1px, 1px, 1px);height: 1px;margin: -1px;overflow: hidden;padding: 0;position: absolute;width: 1px;}#sk-container-id-4 div.sk-estimator {font-family: monospace;background-color: #f0f8ff;border: 1px dotted black;border-radius: 0.25em;box-sizing: border-box;margin-bottom: 0.5em;}#sk-container-id-4 div.sk-estimator:hover {background-color: #d4ebff;}#sk-container-id-4 div.sk-parallel-item::after {content: \"\";width: 100%;border-bottom: 1px solid gray;flex-grow: 1;}#sk-container-id-4 div.sk-label:hover label.sk-toggleable__label {background-color: #d4ebff;}#sk-container-id-4 div.sk-serial::before {content: \"\";position: absolute;border-left: 1px solid gray;box-sizing: border-box;top: 0;bottom: 0;left: 50%;z-index: 0;}#sk-container-id-4 div.sk-serial {display: flex;flex-direction: column;align-items: center;background-color: white;padding-right: 0.2em;padding-left: 0.2em;position: relative;}#sk-container-id-4 div.sk-item {position: relative;z-index: 1;}#sk-container-id-4 div.sk-parallel {display: flex;align-items: stretch;justify-content: center;background-color: white;position: relative;}#sk-container-id-4 div.sk-item::before, #sk-container-id-4 div.sk-parallel-item::before {content: \"\";position: absolute;border-left: 1px solid gray;box-sizing: border-box;top: 0;bottom: 0;left: 50%;z-index: -1;}#sk-container-id-4 div.sk-parallel-item {display: flex;flex-direction: column;z-index: 1;position: relative;background-color: white;}#sk-container-id-4 div.sk-parallel-item:first-child::after {align-self: flex-end;width: 50%;}#sk-container-id-4 div.sk-parallel-item:last-child::after {align-self: flex-start;width: 50%;}#sk-container-id-4 div.sk-parallel-item:only-child::after {width: 0;}#sk-container-id-4 div.sk-dashed-wrapped {border: 1px dashed gray;margin: 0 0.4em 0.5em 0.4em;box-sizing: border-box;padding-bottom: 0.4em;background-color: white;}#sk-container-id-4 div.sk-label label {font-family: monospace;font-weight: bold;display: inline-block;line-height: 1.2em;}#sk-container-id-4 div.sk-label-container {text-align: center;}#sk-container-id-4 div.sk-container {/* jupyter's `normalize.less` sets `[hidden] { display: none; }` but bootstrap.min.css set `[hidden] { display: none !important; }` so we also need the `!important` here to be able to override the default hidden behavior on the sphinx rendered scikit-learn.org. See: https://github.com/scikit-learn/scikit-learn/issues/21755 */display: inline-block !important;position: relative;}#sk-container-id-4 div.sk-text-repr-fallback {display: none;}</style><div id=\"sk-container-id-4\" class=\"sk-top-container\"><div class=\"sk-text-repr-fallback\"><pre>LogisticRegression(C=100, class_weight=&#x27;balanced&#x27;, random_state=42,\n",
       "                   solver=&#x27;liblinear&#x27;)</pre><b>In a Jupyter environment, please rerun this cell to show the HTML representation or trust the notebook. <br />On GitHub, the HTML representation is unable to render, please try loading this page with nbviewer.org.</b></div><div class=\"sk-container\" hidden><div class=\"sk-item\"><div class=\"sk-estimator sk-toggleable\"><input class=\"sk-toggleable__control sk-hidden--visually\" id=\"sk-estimator-id-4\" type=\"checkbox\" checked><label for=\"sk-estimator-id-4\" class=\"sk-toggleable__label sk-toggleable__label-arrow\">LogisticRegression</label><div class=\"sk-toggleable__content\"><pre>LogisticRegression(C=100, class_weight=&#x27;balanced&#x27;, random_state=42,\n",
       "                   solver=&#x27;liblinear&#x27;)</pre></div></div></div></div></div>"
      ],
      "text/plain": [
       "LogisticRegression(C=100, class_weight='balanced', random_state=42,\n",
       "                   solver='liblinear')"
      ]
     },
     "execution_count": 123,
     "metadata": {},
     "output_type": "execute_result"
    }
   ],
   "source": [
    "model_logistic_hyper=LogisticRegression(C=100,class_weight='balanced',solver='liblinear',random_state=42)\n",
    "model_logistic_hyper.fit(X_train,y_train)"
   ]
  },
  {
   "cell_type": "code",
   "execution_count": 124,
   "id": "7decb09f",
   "metadata": {},
   "outputs": [
    {
     "data": {
      "text/plain": [
       "array(['edit_account', 'payment_issue', 'delete_account', ..., 'review',\n",
       "       'track_refund', 'create_account'], dtype=object)"
      ]
     },
     "execution_count": 124,
     "metadata": {},
     "output_type": "execute_result"
    }
   ],
   "source": [
    "y_pred_logistic_hyper=model_logistic_hyper.predict(X_test)\n",
    "y_pred_logistic_hyper"
   ]
  },
  {
   "cell_type": "code",
   "execution_count": 125,
   "id": "5c74de62",
   "metadata": {},
   "outputs": [
    {
     "data": {
      "text/plain": [
       "0.9969418960244648"
      ]
     },
     "execution_count": 125,
     "metadata": {},
     "output_type": "execute_result"
    }
   ],
   "source": [
    "accuracy_logistic_hyper=accuracy_score(y_test,y_pred_logistic_hyper)\n",
    "accuracy_logistic_hyper"
   ]
  },
  {
   "cell_type": "code",
   "execution_count": 126,
   "id": "7480439b",
   "metadata": {},
   "outputs": [
    {
     "name": "stdout",
     "output_type": "stream",
     "text": [
      "                          precision    recall  f1-score   support\n",
      "\n",
      "            cancel_order       1.00      1.00      1.00        62\n",
      "            change_order       1.00      1.00      1.00        70\n",
      " change_shipping_address       1.00      1.00      1.00        60\n",
      "  check_cancellation_fee       1.00      0.98      0.99        66\n",
      "           check_invoice       1.00      1.00      1.00        63\n",
      "   check_payment_methods       1.00      0.99      0.99        68\n",
      "     check_refund_policy       1.00      1.00      1.00        59\n",
      "               complaint       1.00      1.00      1.00        52\n",
      "contact_customer_service       1.00      1.00      1.00        61\n",
      "     contact_human_agent       0.98      1.00      0.99        57\n",
      "          create_account       1.00      0.98      0.99        62\n",
      "          delete_account       1.00      1.00      1.00        53\n",
      "        delivery_options       0.98      1.00      0.99        55\n",
      "         delivery_period       1.00      1.00      1.00        49\n",
      "            edit_account       1.00      0.99      0.99        69\n",
      "             get_invoice       1.00      1.00      1.00        72\n",
      "              get_refund       1.00      1.00      1.00        60\n",
      " newsletter_subscription       1.00      1.00      1.00        49\n",
      "           payment_issue       1.00      0.99      0.99        68\n",
      "             place_order       1.00      1.00      1.00        65\n",
      "        recover_password       1.00      1.00      1.00        62\n",
      "   registration_problems       0.98      1.00      0.99        53\n",
      "                  review       1.00      1.00      1.00        67\n",
      " set_up_shipping_address       1.00      1.00      1.00        59\n",
      "          switch_account       0.97      1.00      0.98        57\n",
      "             track_order       1.00      1.00      1.00        63\n",
      "            track_refund       1.00      1.00      1.00        54\n",
      "\n",
      "                accuracy                           1.00      1635\n",
      "               macro avg       1.00      1.00      1.00      1635\n",
      "            weighted avg       1.00      1.00      1.00      1635\n",
      "\n"
     ]
    }
   ],
   "source": [
    "print(classification_report(y_test,y_pred_logistic_hyper))"
   ]
  },
  {
   "cell_type": "code",
   "execution_count": 127,
   "id": "4c983890",
   "metadata": {},
   "outputs": [
    {
     "data": {
      "text/plain": [
       "0.9969418960244648"
      ]
     },
     "execution_count": 127,
     "metadata": {},
     "output_type": "execute_result"
    }
   ],
   "source": [
    "f1_logistic_hyper=f1_score(y_test,y_pred_logistic_hyper,average='micro')\n",
    "f1_logistic_hyper"
   ]
  },
  {
   "cell_type": "markdown",
   "id": "798b714b",
   "metadata": {},
   "source": [
    "## Hyper Parameter Support Vector Machines:"
   ]
  },
  {
   "cell_type": "code",
   "execution_count": 128,
   "id": "ed3ab3aa",
   "metadata": {},
   "outputs": [],
   "source": [
    "sv=SVC()"
   ]
  },
  {
   "cell_type": "code",
   "execution_count": 94,
   "id": "eb9ec4b1",
   "metadata": {},
   "outputs": [
    {
     "data": {
      "text/plain": [
       "{'C': 10, 'kernel': 'sigmoid'}"
      ]
     },
     "execution_count": 94,
     "metadata": {},
     "output_type": "execute_result"
    }
   ],
   "source": [
    "parameters = {'C': [0.01, 0.1, 1, 10, 100],\n",
    "             'kernel':['linear', 'poly', 'rbf', 'sigmoid']}\n",
    "sv = SVC()\n",
    "clf = GridSearchCV(sv, parameters, cv=5)\n",
    "clf.fit(X_train, y_train)\n",
    "best = clf.best_params_\n",
    "best"
   ]
  },
  {
   "cell_type": "code",
   "execution_count": 99,
   "id": "6946cafe",
   "metadata": {},
   "outputs": [
    {
     "data": {
      "text/plain": [
       "{'C': 10, 'kernel': 'sigmoid'}"
      ]
     },
     "execution_count": 99,
     "metadata": {},
     "output_type": "execute_result"
    }
   ],
   "source": [
    "clf.best_params_"
   ]
  },
  {
   "cell_type": "code",
   "execution_count": 129,
   "id": "18a743fb",
   "metadata": {},
   "outputs": [
    {
     "data": {
      "text/html": [
       "<style>#sk-container-id-5 {color: black;background-color: white;}#sk-container-id-5 pre{padding: 0;}#sk-container-id-5 div.sk-toggleable {background-color: white;}#sk-container-id-5 label.sk-toggleable__label {cursor: pointer;display: block;width: 100%;margin-bottom: 0;padding: 0.3em;box-sizing: border-box;text-align: center;}#sk-container-id-5 label.sk-toggleable__label-arrow:before {content: \"▸\";float: left;margin-right: 0.25em;color: #696969;}#sk-container-id-5 label.sk-toggleable__label-arrow:hover:before {color: black;}#sk-container-id-5 div.sk-estimator:hover label.sk-toggleable__label-arrow:before {color: black;}#sk-container-id-5 div.sk-toggleable__content {max-height: 0;max-width: 0;overflow: hidden;text-align: left;background-color: #f0f8ff;}#sk-container-id-5 div.sk-toggleable__content pre {margin: 0.2em;color: black;border-radius: 0.25em;background-color: #f0f8ff;}#sk-container-id-5 input.sk-toggleable__control:checked~div.sk-toggleable__content {max-height: 200px;max-width: 100%;overflow: auto;}#sk-container-id-5 input.sk-toggleable__control:checked~label.sk-toggleable__label-arrow:before {content: \"▾\";}#sk-container-id-5 div.sk-estimator input.sk-toggleable__control:checked~label.sk-toggleable__label {background-color: #d4ebff;}#sk-container-id-5 div.sk-label input.sk-toggleable__control:checked~label.sk-toggleable__label {background-color: #d4ebff;}#sk-container-id-5 input.sk-hidden--visually {border: 0;clip: rect(1px 1px 1px 1px);clip: rect(1px, 1px, 1px, 1px);height: 1px;margin: -1px;overflow: hidden;padding: 0;position: absolute;width: 1px;}#sk-container-id-5 div.sk-estimator {font-family: monospace;background-color: #f0f8ff;border: 1px dotted black;border-radius: 0.25em;box-sizing: border-box;margin-bottom: 0.5em;}#sk-container-id-5 div.sk-estimator:hover {background-color: #d4ebff;}#sk-container-id-5 div.sk-parallel-item::after {content: \"\";width: 100%;border-bottom: 1px solid gray;flex-grow: 1;}#sk-container-id-5 div.sk-label:hover label.sk-toggleable__label {background-color: #d4ebff;}#sk-container-id-5 div.sk-serial::before {content: \"\";position: absolute;border-left: 1px solid gray;box-sizing: border-box;top: 0;bottom: 0;left: 50%;z-index: 0;}#sk-container-id-5 div.sk-serial {display: flex;flex-direction: column;align-items: center;background-color: white;padding-right: 0.2em;padding-left: 0.2em;position: relative;}#sk-container-id-5 div.sk-item {position: relative;z-index: 1;}#sk-container-id-5 div.sk-parallel {display: flex;align-items: stretch;justify-content: center;background-color: white;position: relative;}#sk-container-id-5 div.sk-item::before, #sk-container-id-5 div.sk-parallel-item::before {content: \"\";position: absolute;border-left: 1px solid gray;box-sizing: border-box;top: 0;bottom: 0;left: 50%;z-index: -1;}#sk-container-id-5 div.sk-parallel-item {display: flex;flex-direction: column;z-index: 1;position: relative;background-color: white;}#sk-container-id-5 div.sk-parallel-item:first-child::after {align-self: flex-end;width: 50%;}#sk-container-id-5 div.sk-parallel-item:last-child::after {align-self: flex-start;width: 50%;}#sk-container-id-5 div.sk-parallel-item:only-child::after {width: 0;}#sk-container-id-5 div.sk-dashed-wrapped {border: 1px dashed gray;margin: 0 0.4em 0.5em 0.4em;box-sizing: border-box;padding-bottom: 0.4em;background-color: white;}#sk-container-id-5 div.sk-label label {font-family: monospace;font-weight: bold;display: inline-block;line-height: 1.2em;}#sk-container-id-5 div.sk-label-container {text-align: center;}#sk-container-id-5 div.sk-container {/* jupyter's `normalize.less` sets `[hidden] { display: none; }` but bootstrap.min.css set `[hidden] { display: none !important; }` so we also need the `!important` here to be able to override the default hidden behavior on the sphinx rendered scikit-learn.org. See: https://github.com/scikit-learn/scikit-learn/issues/21755 */display: inline-block !important;position: relative;}#sk-container-id-5 div.sk-text-repr-fallback {display: none;}</style><div id=\"sk-container-id-5\" class=\"sk-top-container\"><div class=\"sk-text-repr-fallback\"><pre>SVC(C=10, class_weight=&#x27;balanced&#x27;, kernel=&#x27;sigmoid&#x27;, random_state=42)</pre><b>In a Jupyter environment, please rerun this cell to show the HTML representation or trust the notebook. <br />On GitHub, the HTML representation is unable to render, please try loading this page with nbviewer.org.</b></div><div class=\"sk-container\" hidden><div class=\"sk-item\"><div class=\"sk-estimator sk-toggleable\"><input class=\"sk-toggleable__control sk-hidden--visually\" id=\"sk-estimator-id-5\" type=\"checkbox\" checked><label for=\"sk-estimator-id-5\" class=\"sk-toggleable__label sk-toggleable__label-arrow\">SVC</label><div class=\"sk-toggleable__content\"><pre>SVC(C=10, class_weight=&#x27;balanced&#x27;, kernel=&#x27;sigmoid&#x27;, random_state=42)</pre></div></div></div></div></div>"
      ],
      "text/plain": [
       "SVC(C=10, class_weight='balanced', kernel='sigmoid', random_state=42)"
      ]
     },
     "execution_count": 129,
     "metadata": {},
     "output_type": "execute_result"
    }
   ],
   "source": [
    "svc_hyper_parameters=SVC(C=10,kernel='sigmoid',class_weight='balanced',random_state=42)\n",
    "svc_hyper_parameters.fit(X_train,y_train)"
   ]
  },
  {
   "cell_type": "code",
   "execution_count": 130,
   "id": "9a664855",
   "metadata": {},
   "outputs": [
    {
     "data": {
      "text/plain": [
       "array(['edit_account', 'payment_issue', 'delete_account', ..., 'review',\n",
       "       'track_refund', 'create_account'], dtype=object)"
      ]
     },
     "execution_count": 130,
     "metadata": {},
     "output_type": "execute_result"
    }
   ],
   "source": [
    "y_pred_svc_hyper=svc_hyper_parameters.predict(X_test)\n",
    "y_pred_svc_hyper"
   ]
  },
  {
   "cell_type": "code",
   "execution_count": 131,
   "id": "4503131c",
   "metadata": {},
   "outputs": [
    {
     "data": {
      "text/plain": [
       "0.9975535168195718"
      ]
     },
     "execution_count": 131,
     "metadata": {},
     "output_type": "execute_result"
    }
   ],
   "source": [
    "accuracy_svc_hyper=accuracy_score(y_test,y_pred_svc_hyper)\n",
    "accuracy_svc_hyper"
   ]
  },
  {
   "cell_type": "code",
   "execution_count": 132,
   "id": "30b6a21e",
   "metadata": {},
   "outputs": [
    {
     "name": "stdout",
     "output_type": "stream",
     "text": [
      "                          precision    recall  f1-score   support\n",
      "\n",
      "            cancel_order       1.00      1.00      1.00        62\n",
      "            change_order       1.00      1.00      1.00        70\n",
      " change_shipping_address       1.00      1.00      1.00        60\n",
      "  check_cancellation_fee       1.00      1.00      1.00        66\n",
      "           check_invoice       1.00      1.00      1.00        63\n",
      "   check_payment_methods       1.00      1.00      1.00        68\n",
      "     check_refund_policy       1.00      1.00      1.00        59\n",
      "               complaint       1.00      1.00      1.00        52\n",
      "contact_customer_service       1.00      1.00      1.00        61\n",
      "     contact_human_agent       0.98      1.00      0.99        57\n",
      "          create_account       1.00      0.98      0.99        62\n",
      "          delete_account       0.98      1.00      0.99        53\n",
      "        delivery_options       1.00      1.00      1.00        55\n",
      "         delivery_period       1.00      1.00      1.00        49\n",
      "            edit_account       1.00      0.97      0.99        69\n",
      "             get_invoice       1.00      1.00      1.00        72\n",
      "              get_refund       1.00      1.00      1.00        60\n",
      " newsletter_subscription       1.00      1.00      1.00        49\n",
      "           payment_issue       1.00      0.99      0.99        68\n",
      "             place_order       1.00      1.00      1.00        65\n",
      "        recover_password       1.00      1.00      1.00        62\n",
      "   registration_problems       0.98      1.00      0.99        53\n",
      "                  review       1.00      1.00      1.00        67\n",
      " set_up_shipping_address       1.00      1.00      1.00        59\n",
      "          switch_account       0.98      1.00      0.99        57\n",
      "             track_order       1.00      1.00      1.00        63\n",
      "            track_refund       1.00      1.00      1.00        54\n",
      "\n",
      "                accuracy                           1.00      1635\n",
      "               macro avg       1.00      1.00      1.00      1635\n",
      "            weighted avg       1.00      1.00      1.00      1635\n",
      "\n"
     ]
    }
   ],
   "source": [
    "print(classification_report(y_test,y_pred_svc_hyper))"
   ]
  },
  {
   "cell_type": "code",
   "execution_count": 133,
   "id": "f7d51af0",
   "metadata": {},
   "outputs": [
    {
     "data": {
      "text/plain": [
       "0.9975535168195718"
      ]
     },
     "execution_count": 133,
     "metadata": {},
     "output_type": "execute_result"
    }
   ],
   "source": [
    "f1_svc_hyper=f1_score(y_test,y_pred_svc_hyper,average='micro')\n",
    "f1_svc_hyper"
   ]
  },
  {
   "cell_type": "markdown",
   "id": "98de80d6",
   "metadata": {},
   "source": [
    "## Compariasion of Accuracy scores of all Models :"
   ]
  },
  {
   "cell_type": "code",
   "execution_count": 134,
   "id": "ad6a0365",
   "metadata": {},
   "outputs": [],
   "source": [
    "accuracy={'accuracy_svc':99.57,'accuracy_logistic':99.63,'accuracy_logistic_hyper':99.69,'accuracy_svc_hyper':99.75}\n",
    "key_scores=accuracy.keys()\n",
    "value_scores=accuracy.values()"
   ]
  },
  {
   "cell_type": "code",
   "execution_count": 114,
   "id": "c301f5e5",
   "metadata": {},
   "outputs": [
    {
     "data": {
      "image/png": "[encoded data removed]",
      "text/plain": [
       "<Figure size 1000x500 with 1 Axes>"
      ]
     },
     "metadata": {},
     "output_type": "display_data"
    },
    {
     "data": {
      "text/plain": [
       "<Figure size 640x480 with 0 Axes>"
      ]
     },
     "metadata": {},
     "output_type": "display_data"
    }
   ],
   "source": [
    "plt.figure(figsize=(10,5))\n",
    "sns.barplot(x=key_scores,y=value_scores)\n",
    "plt.xlabel('Keys')\n",
    "plt.ylabel('Values')\n",
    "plt.title('Model Wise Accuaracy Scores')\n",
    "plt.grid()\n",
    "plt.show()\n",
    "plt.tight_layout()"
   ]
  },
  {
   "cell_type": "markdown",
   "id": "8b6b4fde",
   "metadata": {},
   "source": [
    "## Insights :\n",
    "* The Maxmimum highest accuracy score of model is Support Vector Machines Hyper tunings."
   ]
  },
  {
   "cell_type": "code",
   "execution_count": 115,
   "id": "03b926d5",
   "metadata": {},
   "outputs": [
    {
     "data": {
      "image/png": "[encoded data removed]",
      "text/plain": [
       "<Figure size 1000x500 with 1 Axes>"
      ]
     },
     "metadata": {},
     "output_type": "display_data"
    },
    {
     "data": {
      "text/plain": [
       "<Figure size 640x480 with 0 Axes>"
      ]
     },
     "metadata": {},
     "output_type": "display_data"
    }
   ],
   "source": [
    "plt.figure(figsize=(10,5))\n",
    "sns.lineplot(x=key_scores,y=value_scores)\n",
    "plt.xlabel('Keys')\n",
    "plt.ylabel('Values')\n",
    "plt.title('Model Wise Accuaracy Scores')\n",
    "plt.grid()\n",
    "plt.show()\n",
    "plt.tight_layout()"
   ]
  },
  {
   "cell_type": "markdown",
   "id": "3d19fb52",
   "metadata": {},
   "source": [
    "## Insights :\n",
    "* accuracy_svc_hyper is a better performance in this datasets."
   ]
  },
  {
   "cell_type": "markdown",
   "id": "3eae920d",
   "metadata": {},
   "source": [
    "* **Focus on automation:** Given the large number of queries related to order cancellations, automating such requests can help reduce response time and operational costs.\n",
    "* **Training and Optimization:** Models can be trained using this dataset to classify intents, allowing for automated systems or chatbots to handle these inquiries. The data can also be used to fine-tune existing models or identify areas where customer service agents need more training."
   ]
  },
  {
   "cell_type": "markdown",
   "id": "17f4e345",
   "metadata": {},
   "source": [
    "## Deployment :\n",
    "* The dataset is well-suited for training intent recognition models, and also test datas, it can be deployed in a scalable cloud environment. By using machine learning to predict intents and address common queries, the system can ensure that repetitive queries are handled more efficiently."
   ]
  },
  {
   "cell_type": "markdown",
   "id": "d91df737",
   "metadata": {},
   "source": [
    "## Conclusion :"
   ]
  },
  {
   "cell_type": "markdown",
   "id": "08bf095a",
   "metadata": {},
   "source": [
    "* **Bitext Sample Customer Service Training Dataset** focuses on classifying customer queries into specific intents like \"cancel_order.\" It highlights the importance of automating common queries, especially those related to order management. The dataset’s structure makes it ideal for training intent recognition models to streamline customer service operations. By automating frequent tasks, businesses can improve response times and reduce manual intervention. Overall, this dataset supports efficient model training for scalable, automated customer service solutions."
   ]
  },
  {
   "cell_type": "markdown",
   "id": "349b2587",
   "metadata": {},
   "source": [
    "## Deployments :"
   ]
  },
  {
   "cell_type": "code",
   "execution_count": 135,
   "id": "d2e3a88f",
   "metadata": {},
   "outputs": [],
   "source": [
    "import pickle"
   ]
  },
  {
   "cell_type": "code",
   "execution_count": 136,
   "id": "38ef1c4d",
   "metadata": {},
   "outputs": [],
   "source": [
    "file=open('SVC_model.pkl','wb')\n",
    "pickle.dump(svc_hyper_parameters,file)"
   ]
  },
  {
   "cell_type": "code",
   "execution_count": null,
   "id": "ea72a400",
   "metadata": {},
   "outputs": [],
   "source": []
  }
 ],
 "metadata": {
  "kernelspec": {
   "display_name": "Python 3 (ipykernel)",
   "language": "python",
   "name": "python3"
  },
  "language_info": {
   "codemirror_mode": {
    "name": "ipython",
    "version": 3
   },
   "file_extension": ".py",
   "mimetype": "text/x-python",
   "name": "python",
   "nbconvert_exporter": "python",
   "pygments_lexer": "ipython3",
   "version": "3.11.5"
  }
 },
 "nbformat": 4,
 "nbformat_minor": 5
}
